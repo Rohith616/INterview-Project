{
  "nbformat": 4,
  "nbformat_minor": 0,
  "metadata": {
    "colab": {
      "name": "Project2.ipynb",
      "provenance": [],
      "authorship_tag": "ABX9TyOQh8/QesrYdebZfRBH3Jhg",
      "include_colab_link": true
    },
    "kernelspec": {
      "name": "python3",
      "display_name": "Python 3"
    },
    "language_info": {
      "name": "python"
    }
  },
  "cells": [
    {
      "cell_type": "markdown",
      "metadata": {
        "id": "view-in-github",
        "colab_type": "text"
      },
      "source": [
        "<a href=\"https://colab.research.google.com/github/Rohithtechis/INterview-Project/blob/main/Project2.ipynb\" target=\"_parent\"><img src=\"https://colab.research.google.com/assets/colab-badge.svg\" alt=\"Open In Colab\"/></a>"
      ]
    },
    {
      "cell_type": "code",
      "metadata": {
        "id": "QKo1Uyy-sM5K"
      },
      "source": [
        "import numpy as np\n",
        "import pandas as pd\n",
        "import warnings\n",
        "import seaborn as sns\n",
        "import matplotlib.pyplot as plt\n",
        "sns.set(style='white',color_codes=True)"
      ],
      "execution_count": 249,
      "outputs": []
    },
    {
      "cell_type": "code",
      "metadata": {
        "id": "GvcrHvlpsvoa"
      },
      "source": [
        "train=pd.read_csv('/content/train.csv')\n",
        "test=pd.read_csv('/content/test.csv')"
      ],
      "execution_count": 250,
      "outputs": []
    },
    {
      "cell_type": "code",
      "metadata": {
        "colab": {
          "base_uri": "https://localhost:8080/",
          "height": 394
        },
        "id": "lL_xIPeYtEnS",
        "outputId": "02d5b5e3-efb0-4800-d7ed-c8cf66e1a716"
      },
      "source": [
        "train.head()"
      ],
      "execution_count": 251,
      "outputs": [
        {
          "output_type": "execute_result",
          "data": {
            "text/html": [
              "<div>\n",
              "<style scoped>\n",
              "    .dataframe tbody tr th:only-of-type {\n",
              "        vertical-align: middle;\n",
              "    }\n",
              "\n",
              "    .dataframe tbody tr th {\n",
              "        vertical-align: top;\n",
              "    }\n",
              "\n",
              "    .dataframe thead th {\n",
              "        text-align: right;\n",
              "    }\n",
              "</style>\n",
              "<table border=\"1\" class=\"dataframe\">\n",
              "  <thead>\n",
              "    <tr style=\"text-align: right;\">\n",
              "      <th></th>\n",
              "      <th>id</th>\n",
              "      <th>timestamp</th>\n",
              "      <th>season</th>\n",
              "      <th>holiday</th>\n",
              "      <th>workingday</th>\n",
              "      <th>weather</th>\n",
              "      <th>temp</th>\n",
              "      <th>temp_feel</th>\n",
              "      <th>humidity</th>\n",
              "      <th>windspeed</th>\n",
              "      <th>demand</th>\n",
              "    </tr>\n",
              "  </thead>\n",
              "  <tbody>\n",
              "    <tr>\n",
              "      <th>0</th>\n",
              "      <td>1</td>\n",
              "      <td>2017-01-01 00:00:00</td>\n",
              "      <td>spring</td>\n",
              "      <td>No</td>\n",
              "      <td>No</td>\n",
              "      <td>Clear or partly cloudy</td>\n",
              "      <td>9.84</td>\n",
              "      <td>14.395</td>\n",
              "      <td>81.0</td>\n",
              "      <td>0.0</td>\n",
              "      <td>2.772589</td>\n",
              "    </tr>\n",
              "    <tr>\n",
              "      <th>1</th>\n",
              "      <td>2</td>\n",
              "      <td>2017-01-01 01:00:00</td>\n",
              "      <td>spring</td>\n",
              "      <td>No</td>\n",
              "      <td>No</td>\n",
              "      <td>Clear or partly cloudy</td>\n",
              "      <td>9.02</td>\n",
              "      <td>13.635</td>\n",
              "      <td>80.0</td>\n",
              "      <td>0.0</td>\n",
              "      <td>3.688879</td>\n",
              "    </tr>\n",
              "    <tr>\n",
              "      <th>2</th>\n",
              "      <td>3</td>\n",
              "      <td>2017-01-01 02:00:00</td>\n",
              "      <td>spring</td>\n",
              "      <td>No</td>\n",
              "      <td>No</td>\n",
              "      <td>Clear or partly cloudy</td>\n",
              "      <td>9.02</td>\n",
              "      <td>13.635</td>\n",
              "      <td>80.0</td>\n",
              "      <td>0.0</td>\n",
              "      <td>3.465736</td>\n",
              "    </tr>\n",
              "    <tr>\n",
              "      <th>3</th>\n",
              "      <td>4</td>\n",
              "      <td>2017-01-01 03:00:00</td>\n",
              "      <td>spring</td>\n",
              "      <td>No</td>\n",
              "      <td>No</td>\n",
              "      <td>Clear or partly cloudy</td>\n",
              "      <td>9.84</td>\n",
              "      <td>14.395</td>\n",
              "      <td>75.0</td>\n",
              "      <td>0.0</td>\n",
              "      <td>2.564949</td>\n",
              "    </tr>\n",
              "    <tr>\n",
              "      <th>4</th>\n",
              "      <td>5</td>\n",
              "      <td>2017-01-01 04:00:00</td>\n",
              "      <td>spring</td>\n",
              "      <td>No</td>\n",
              "      <td>No</td>\n",
              "      <td>Clear or partly cloudy</td>\n",
              "      <td>9.84</td>\n",
              "      <td>14.395</td>\n",
              "      <td>75.0</td>\n",
              "      <td>0.0</td>\n",
              "      <td>0.000000</td>\n",
              "    </tr>\n",
              "  </tbody>\n",
              "</table>\n",
              "</div>"
            ],
            "text/plain": [
              "   id            timestamp  season  ... humidity windspeed    demand\n",
              "0   1  2017-01-01 00:00:00  spring  ...     81.0       0.0  2.772589\n",
              "1   2  2017-01-01 01:00:00  spring  ...     80.0       0.0  3.688879\n",
              "2   3  2017-01-01 02:00:00  spring  ...     80.0       0.0  3.465736\n",
              "3   4  2017-01-01 03:00:00  spring  ...     75.0       0.0  2.564949\n",
              "4   5  2017-01-01 04:00:00  spring  ...     75.0       0.0  0.000000\n",
              "\n",
              "[5 rows x 11 columns]"
            ]
          },
          "metadata": {},
          "execution_count": 251
        }
      ]
    },
    {
      "cell_type": "code",
      "metadata": {
        "colab": {
          "base_uri": "https://localhost:8080/"
        },
        "id": "xN4kU-5jtOGc",
        "outputId": "feaeca17-5e90-4c3e-ae51-a4dc78630968"
      },
      "source": [
        "train.shape"
      ],
      "execution_count": 252,
      "outputs": [
        {
          "output_type": "execute_result",
          "data": {
            "text/plain": [
              "(8708, 11)"
            ]
          },
          "metadata": {},
          "execution_count": 252
        }
      ]
    },
    {
      "cell_type": "code",
      "metadata": {
        "colab": {
          "base_uri": "https://localhost:8080/",
          "height": 297
        },
        "id": "PdptIXzOtEpo",
        "outputId": "5ccf70bb-c0f2-4dc4-f3d2-8b0f95d4bad4"
      },
      "source": [
        "train.describe()"
      ],
      "execution_count": 253,
      "outputs": [
        {
          "output_type": "execute_result",
          "data": {
            "text/html": [
              "<div>\n",
              "<style scoped>\n",
              "    .dataframe tbody tr th:only-of-type {\n",
              "        vertical-align: middle;\n",
              "    }\n",
              "\n",
              "    .dataframe tbody tr th {\n",
              "        vertical-align: top;\n",
              "    }\n",
              "\n",
              "    .dataframe thead th {\n",
              "        text-align: right;\n",
              "    }\n",
              "</style>\n",
              "<table border=\"1\" class=\"dataframe\">\n",
              "  <thead>\n",
              "    <tr style=\"text-align: right;\">\n",
              "      <th></th>\n",
              "      <th>id</th>\n",
              "      <th>temp</th>\n",
              "      <th>temp_feel</th>\n",
              "      <th>humidity</th>\n",
              "      <th>windspeed</th>\n",
              "      <th>demand</th>\n",
              "    </tr>\n",
              "  </thead>\n",
              "  <tbody>\n",
              "    <tr>\n",
              "      <th>count</th>\n",
              "      <td>8708.000000</td>\n",
              "      <td>7506.000000</td>\n",
              "      <td>8606.000000</td>\n",
              "      <td>8669.00000</td>\n",
              "      <td>8508.000000</td>\n",
              "      <td>8708.000000</td>\n",
              "    </tr>\n",
              "    <tr>\n",
              "      <th>mean</th>\n",
              "      <td>4354.500000</td>\n",
              "      <td>20.089454</td>\n",
              "      <td>23.531261</td>\n",
              "      <td>60.99354</td>\n",
              "      <td>13.048589</td>\n",
              "      <td>4.452725</td>\n",
              "    </tr>\n",
              "    <tr>\n",
              "      <th>std</th>\n",
              "      <td>2513.927405</td>\n",
              "      <td>8.023304</td>\n",
              "      <td>8.737997</td>\n",
              "      <td>19.67989</td>\n",
              "      <td>8.311058</td>\n",
              "      <td>1.493963</td>\n",
              "    </tr>\n",
              "    <tr>\n",
              "      <th>min</th>\n",
              "      <td>1.000000</td>\n",
              "      <td>0.820000</td>\n",
              "      <td>0.760000</td>\n",
              "      <td>0.00000</td>\n",
              "      <td>0.000000</td>\n",
              "      <td>0.000000</td>\n",
              "    </tr>\n",
              "    <tr>\n",
              "      <th>25%</th>\n",
              "      <td>2177.750000</td>\n",
              "      <td>13.940000</td>\n",
              "      <td>15.910000</td>\n",
              "      <td>46.00000</td>\n",
              "      <td>7.001500</td>\n",
              "      <td>3.637586</td>\n",
              "    </tr>\n",
              "    <tr>\n",
              "      <th>50%</th>\n",
              "      <td>4354.500000</td>\n",
              "      <td>20.500000</td>\n",
              "      <td>24.240000</td>\n",
              "      <td>60.00000</td>\n",
              "      <td>12.998000</td>\n",
              "      <td>4.867534</td>\n",
              "    </tr>\n",
              "    <tr>\n",
              "      <th>75%</th>\n",
              "      <td>6531.250000</td>\n",
              "      <td>26.240000</td>\n",
              "      <td>31.060000</td>\n",
              "      <td>77.00000</td>\n",
              "      <td>19.001200</td>\n",
              "      <td>5.556828</td>\n",
              "    </tr>\n",
              "    <tr>\n",
              "      <th>max</th>\n",
              "      <td>8708.000000</td>\n",
              "      <td>41.000000</td>\n",
              "      <td>45.455000</td>\n",
              "      <td>100.00000</td>\n",
              "      <td>56.996900</td>\n",
              "      <td>6.792344</td>\n",
              "    </tr>\n",
              "  </tbody>\n",
              "</table>\n",
              "</div>"
            ],
            "text/plain": [
              "                id         temp  ...    windspeed       demand\n",
              "count  8708.000000  7506.000000  ...  8508.000000  8708.000000\n",
              "mean   4354.500000    20.089454  ...    13.048589     4.452725\n",
              "std    2513.927405     8.023304  ...     8.311058     1.493963\n",
              "min       1.000000     0.820000  ...     0.000000     0.000000\n",
              "25%    2177.750000    13.940000  ...     7.001500     3.637586\n",
              "50%    4354.500000    20.500000  ...    12.998000     4.867534\n",
              "75%    6531.250000    26.240000  ...    19.001200     5.556828\n",
              "max    8708.000000    41.000000  ...    56.996900     6.792344\n",
              "\n",
              "[8 rows x 6 columns]"
            ]
          },
          "metadata": {},
          "execution_count": 253
        }
      ]
    },
    {
      "cell_type": "code",
      "metadata": {
        "colab": {
          "base_uri": "https://localhost:8080/"
        },
        "id": "-2hEZupBtEsa",
        "outputId": "27d7d356-c6f7-4a24-ad9e-76beb25a8199"
      },
      "source": [
        "train.columns.values"
      ],
      "execution_count": 254,
      "outputs": [
        {
          "output_type": "execute_result",
          "data": {
            "text/plain": [
              "array(['id', 'timestamp', 'season', 'holiday', 'workingday', 'weather',\n",
              "       'temp', 'temp_feel', 'humidity', 'windspeed', 'demand'],\n",
              "      dtype=object)"
            ]
          },
          "metadata": {},
          "execution_count": 254
        }
      ]
    },
    {
      "cell_type": "code",
      "metadata": {
        "colab": {
          "base_uri": "https://localhost:8080/"
        },
        "id": "w3mU5sGfuDiC",
        "outputId": "72b51837-dbca-47f9-9271-9b749d614e8e"
      },
      "source": [
        "# Ckecking for missing values\n",
        "train.isna().sum()"
      ],
      "execution_count": 255,
      "outputs": [
        {
          "output_type": "execute_result",
          "data": {
            "text/plain": [
              "id               0\n",
              "timestamp        0\n",
              "season           0\n",
              "holiday          0\n",
              "workingday       0\n",
              "weather          0\n",
              "temp          1202\n",
              "temp_feel      102\n",
              "humidity        39\n",
              "windspeed      200\n",
              "demand           0\n",
              "dtype: int64"
            ]
          },
          "metadata": {},
          "execution_count": 255
        }
      ]
    },
    {
      "cell_type": "code",
      "metadata": {
        "id": "S3NgfkmuuDk1"
      },
      "source": [
        "# Replacing the Missing values with Mode"
      ],
      "execution_count": 256,
      "outputs": []
    },
    {
      "cell_type": "code",
      "metadata": {
        "id": "JMoTjD6SuDnA"
      },
      "source": [
        "train.fillna(train.mean(), inplace=True)\n",
        "train=train.fillna(train.mean())"
      ],
      "execution_count": 257,
      "outputs": []
    },
    {
      "cell_type": "code",
      "metadata": {
        "colab": {
          "base_uri": "https://localhost:8080/"
        },
        "id": "rqdmiRwruDpl",
        "outputId": "5a3b6bd4-2fb3-4129-d786-33f37712c948"
      },
      "source": [
        "train.isna().sum()"
      ],
      "execution_count": 258,
      "outputs": [
        {
          "output_type": "execute_result",
          "data": {
            "text/plain": [
              "id            0\n",
              "timestamp     0\n",
              "season        0\n",
              "holiday       0\n",
              "workingday    0\n",
              "weather       0\n",
              "temp          0\n",
              "temp_feel     0\n",
              "humidity      0\n",
              "windspeed     0\n",
              "demand        0\n",
              "dtype: int64"
            ]
          },
          "metadata": {},
          "execution_count": 258
        }
      ]
    },
    {
      "cell_type": "code",
      "metadata": {
        "id": "Pw6pfILScXTN"
      },
      "source": [
        "def timefeatures(train):\n",
        "  train['datetime']=pd.to_datetime(train['timestamp'])\n",
        "  train['day_of_week']=train['datetime'].dt.dayofweek\n",
        "  train['day_of_year']=train['datetime'].dt.dayofyear\n",
        "  train['month']=train['datetime'].dt.month\n",
        "  train['hour']=train['datetime'].dt.hour\n",
        "  return train"
      ],
      "execution_count": 259,
      "outputs": []
    },
    {
      "cell_type": "code",
      "metadata": {
        "colab": {
          "base_uri": "https://localhost:8080/",
          "height": 394
        },
        "id": "DbVfc2DqcXXQ",
        "outputId": "3f29a012-f8f9-4cfa-eb44-b49933ae5795"
      },
      "source": [
        "train=timefeatures(train)\n",
        "train.drop(['timestamp','datetime'],axis=1,inplace=True)\n",
        "train.head()"
      ],
      "execution_count": 260,
      "outputs": [
        {
          "output_type": "execute_result",
          "data": {
            "text/html": [
              "<div>\n",
              "<style scoped>\n",
              "    .dataframe tbody tr th:only-of-type {\n",
              "        vertical-align: middle;\n",
              "    }\n",
              "\n",
              "    .dataframe tbody tr th {\n",
              "        vertical-align: top;\n",
              "    }\n",
              "\n",
              "    .dataframe thead th {\n",
              "        text-align: right;\n",
              "    }\n",
              "</style>\n",
              "<table border=\"1\" class=\"dataframe\">\n",
              "  <thead>\n",
              "    <tr style=\"text-align: right;\">\n",
              "      <th></th>\n",
              "      <th>id</th>\n",
              "      <th>season</th>\n",
              "      <th>holiday</th>\n",
              "      <th>workingday</th>\n",
              "      <th>weather</th>\n",
              "      <th>temp</th>\n",
              "      <th>temp_feel</th>\n",
              "      <th>humidity</th>\n",
              "      <th>windspeed</th>\n",
              "      <th>demand</th>\n",
              "      <th>day_of_week</th>\n",
              "      <th>day_of_year</th>\n",
              "      <th>month</th>\n",
              "      <th>hour</th>\n",
              "    </tr>\n",
              "  </thead>\n",
              "  <tbody>\n",
              "    <tr>\n",
              "      <th>0</th>\n",
              "      <td>1</td>\n",
              "      <td>spring</td>\n",
              "      <td>No</td>\n",
              "      <td>No</td>\n",
              "      <td>Clear or partly cloudy</td>\n",
              "      <td>9.84</td>\n",
              "      <td>14.395</td>\n",
              "      <td>81.0</td>\n",
              "      <td>0.0</td>\n",
              "      <td>2.772589</td>\n",
              "      <td>6</td>\n",
              "      <td>1</td>\n",
              "      <td>1</td>\n",
              "      <td>0</td>\n",
              "    </tr>\n",
              "    <tr>\n",
              "      <th>1</th>\n",
              "      <td>2</td>\n",
              "      <td>spring</td>\n",
              "      <td>No</td>\n",
              "      <td>No</td>\n",
              "      <td>Clear or partly cloudy</td>\n",
              "      <td>9.02</td>\n",
              "      <td>13.635</td>\n",
              "      <td>80.0</td>\n",
              "      <td>0.0</td>\n",
              "      <td>3.688879</td>\n",
              "      <td>6</td>\n",
              "      <td>1</td>\n",
              "      <td>1</td>\n",
              "      <td>1</td>\n",
              "    </tr>\n",
              "    <tr>\n",
              "      <th>2</th>\n",
              "      <td>3</td>\n",
              "      <td>spring</td>\n",
              "      <td>No</td>\n",
              "      <td>No</td>\n",
              "      <td>Clear or partly cloudy</td>\n",
              "      <td>9.02</td>\n",
              "      <td>13.635</td>\n",
              "      <td>80.0</td>\n",
              "      <td>0.0</td>\n",
              "      <td>3.465736</td>\n",
              "      <td>6</td>\n",
              "      <td>1</td>\n",
              "      <td>1</td>\n",
              "      <td>2</td>\n",
              "    </tr>\n",
              "    <tr>\n",
              "      <th>3</th>\n",
              "      <td>4</td>\n",
              "      <td>spring</td>\n",
              "      <td>No</td>\n",
              "      <td>No</td>\n",
              "      <td>Clear or partly cloudy</td>\n",
              "      <td>9.84</td>\n",
              "      <td>14.395</td>\n",
              "      <td>75.0</td>\n",
              "      <td>0.0</td>\n",
              "      <td>2.564949</td>\n",
              "      <td>6</td>\n",
              "      <td>1</td>\n",
              "      <td>1</td>\n",
              "      <td>3</td>\n",
              "    </tr>\n",
              "    <tr>\n",
              "      <th>4</th>\n",
              "      <td>5</td>\n",
              "      <td>spring</td>\n",
              "      <td>No</td>\n",
              "      <td>No</td>\n",
              "      <td>Clear or partly cloudy</td>\n",
              "      <td>9.84</td>\n",
              "      <td>14.395</td>\n",
              "      <td>75.0</td>\n",
              "      <td>0.0</td>\n",
              "      <td>0.000000</td>\n",
              "      <td>6</td>\n",
              "      <td>1</td>\n",
              "      <td>1</td>\n",
              "      <td>4</td>\n",
              "    </tr>\n",
              "  </tbody>\n",
              "</table>\n",
              "</div>"
            ],
            "text/plain": [
              "   id  season holiday workingday  ... day_of_week  day_of_year  month  hour\n",
              "0   1  spring      No         No  ...           6            1      1     0\n",
              "1   2  spring      No         No  ...           6            1      1     1\n",
              "2   3  spring      No         No  ...           6            1      1     2\n",
              "3   4  spring      No         No  ...           6            1      1     3\n",
              "4   5  spring      No         No  ...           6            1      1     4\n",
              "\n",
              "[5 rows x 14 columns]"
            ]
          },
          "metadata": {},
          "execution_count": 260
        }
      ]
    },
    {
      "cell_type": "code",
      "metadata": {
        "colab": {
          "base_uri": "https://localhost:8080/"
        },
        "id": "CdHDD4KWQDwT",
        "outputId": "c6b3483a-c136-4719-9ca1-c921b5bb3653"
      },
      "source": [
        "train.info()"
      ],
      "execution_count": 261,
      "outputs": [
        {
          "output_type": "stream",
          "name": "stdout",
          "text": [
            "<class 'pandas.core.frame.DataFrame'>\n",
            "RangeIndex: 8708 entries, 0 to 8707\n",
            "Data columns (total 14 columns):\n",
            " #   Column       Non-Null Count  Dtype  \n",
            "---  ------       --------------  -----  \n",
            " 0   id           8708 non-null   int64  \n",
            " 1   season       8708 non-null   object \n",
            " 2   holiday      8708 non-null   object \n",
            " 3   workingday   8708 non-null   object \n",
            " 4   weather      8708 non-null   object \n",
            " 5   temp         8708 non-null   float64\n",
            " 6   temp_feel    8708 non-null   float64\n",
            " 7   humidity     8708 non-null   float64\n",
            " 8   windspeed    8708 non-null   float64\n",
            " 9   demand       8708 non-null   float64\n",
            " 10  day_of_week  8708 non-null   int64  \n",
            " 11  day_of_year  8708 non-null   int64  \n",
            " 12  month        8708 non-null   int64  \n",
            " 13  hour         8708 non-null   int64  \n",
            "dtypes: float64(5), int64(5), object(4)\n",
            "memory usage: 952.6+ KB\n"
          ]
        }
      ]
    },
    {
      "cell_type": "code",
      "metadata": {
        "colab": {
          "base_uri": "https://localhost:8080/",
          "height": 317
        },
        "id": "U8lExiEfQDyj",
        "outputId": "2be1375d-7ae9-40f7-bb5e-d46f2802887f"
      },
      "source": [
        "train.describe()"
      ],
      "execution_count": 262,
      "outputs": [
        {
          "output_type": "execute_result",
          "data": {
            "text/html": [
              "<div>\n",
              "<style scoped>\n",
              "    .dataframe tbody tr th:only-of-type {\n",
              "        vertical-align: middle;\n",
              "    }\n",
              "\n",
              "    .dataframe tbody tr th {\n",
              "        vertical-align: top;\n",
              "    }\n",
              "\n",
              "    .dataframe thead th {\n",
              "        text-align: right;\n",
              "    }\n",
              "</style>\n",
              "<table border=\"1\" class=\"dataframe\">\n",
              "  <thead>\n",
              "    <tr style=\"text-align: right;\">\n",
              "      <th></th>\n",
              "      <th>id</th>\n",
              "      <th>temp</th>\n",
              "      <th>temp_feel</th>\n",
              "      <th>humidity</th>\n",
              "      <th>windspeed</th>\n",
              "      <th>demand</th>\n",
              "      <th>day_of_week</th>\n",
              "      <th>day_of_year</th>\n",
              "      <th>month</th>\n",
              "      <th>hour</th>\n",
              "    </tr>\n",
              "  </thead>\n",
              "  <tbody>\n",
              "    <tr>\n",
              "      <th>count</th>\n",
              "      <td>8708.000000</td>\n",
              "      <td>8708.000000</td>\n",
              "      <td>8708.000000</td>\n",
              "      <td>8708.000000</td>\n",
              "      <td>8708.000000</td>\n",
              "      <td>8708.000000</td>\n",
              "      <td>8708.000000</td>\n",
              "      <td>8708.000000</td>\n",
              "      <td>8708.000000</td>\n",
              "      <td>8708.000000</td>\n",
              "    </tr>\n",
              "    <tr>\n",
              "      <th>mean</th>\n",
              "      <td>4354.500000</td>\n",
              "      <td>20.089454</td>\n",
              "      <td>23.531261</td>\n",
              "      <td>60.993540</td>\n",
              "      <td>13.048589</td>\n",
              "      <td>4.452725</td>\n",
              "      <td>3.018948</td>\n",
              "      <td>149.825678</td>\n",
              "      <td>5.628388</td>\n",
              "      <td>11.545590</td>\n",
              "    </tr>\n",
              "    <tr>\n",
              "      <th>std</th>\n",
              "      <td>2513.927405</td>\n",
              "      <td>7.448937</td>\n",
              "      <td>8.686664</td>\n",
              "      <td>19.635766</td>\n",
              "      <td>8.215051</td>\n",
              "      <td>1.493963</td>\n",
              "      <td>2.003897</td>\n",
              "      <td>97.968074</td>\n",
              "      <td>3.220104</td>\n",
              "      <td>6.916298</td>\n",
              "    </tr>\n",
              "    <tr>\n",
              "      <th>min</th>\n",
              "      <td>1.000000</td>\n",
              "      <td>0.820000</td>\n",
              "      <td>0.760000</td>\n",
              "      <td>0.000000</td>\n",
              "      <td>0.000000</td>\n",
              "      <td>0.000000</td>\n",
              "      <td>0.000000</td>\n",
              "      <td>1.000000</td>\n",
              "      <td>1.000000</td>\n",
              "      <td>0.000000</td>\n",
              "    </tr>\n",
              "    <tr>\n",
              "      <th>25%</th>\n",
              "      <td>2177.750000</td>\n",
              "      <td>14.760000</td>\n",
              "      <td>16.665000</td>\n",
              "      <td>46.000000</td>\n",
              "      <td>7.001500</td>\n",
              "      <td>3.637586</td>\n",
              "      <td>1.000000</td>\n",
              "      <td>68.000000</td>\n",
              "      <td>3.000000</td>\n",
              "      <td>6.000000</td>\n",
              "    </tr>\n",
              "    <tr>\n",
              "      <th>50%</th>\n",
              "      <td>4354.500000</td>\n",
              "      <td>20.089454</td>\n",
              "      <td>24.240000</td>\n",
              "      <td>60.993540</td>\n",
              "      <td>12.998000</td>\n",
              "      <td>4.867534</td>\n",
              "      <td>3.000000</td>\n",
              "      <td>136.000000</td>\n",
              "      <td>5.000000</td>\n",
              "      <td>12.000000</td>\n",
              "    </tr>\n",
              "    <tr>\n",
              "      <th>75%</th>\n",
              "      <td>6531.250000</td>\n",
              "      <td>25.420000</td>\n",
              "      <td>31.060000</td>\n",
              "      <td>77.000000</td>\n",
              "      <td>19.001200</td>\n",
              "      <td>5.556828</td>\n",
              "      <td>5.000000</td>\n",
              "      <td>217.000000</td>\n",
              "      <td>8.000000</td>\n",
              "      <td>18.000000</td>\n",
              "    </tr>\n",
              "    <tr>\n",
              "      <th>max</th>\n",
              "      <td>8708.000000</td>\n",
              "      <td>41.000000</td>\n",
              "      <td>45.455000</td>\n",
              "      <td>100.000000</td>\n",
              "      <td>56.996900</td>\n",
              "      <td>6.792344</td>\n",
              "      <td>6.000000</td>\n",
              "      <td>353.000000</td>\n",
              "      <td>12.000000</td>\n",
              "      <td>23.000000</td>\n",
              "    </tr>\n",
              "  </tbody>\n",
              "</table>\n",
              "</div>"
            ],
            "text/plain": [
              "                id         temp  ...        month         hour\n",
              "count  8708.000000  8708.000000  ...  8708.000000  8708.000000\n",
              "mean   4354.500000    20.089454  ...     5.628388    11.545590\n",
              "std    2513.927405     7.448937  ...     3.220104     6.916298\n",
              "min       1.000000     0.820000  ...     1.000000     0.000000\n",
              "25%    2177.750000    14.760000  ...     3.000000     6.000000\n",
              "50%    4354.500000    20.089454  ...     5.000000    12.000000\n",
              "75%    6531.250000    25.420000  ...     8.000000    18.000000\n",
              "max    8708.000000    41.000000  ...    12.000000    23.000000\n",
              "\n",
              "[8 rows x 10 columns]"
            ]
          },
          "metadata": {},
          "execution_count": 262
        }
      ]
    },
    {
      "cell_type": "code",
      "metadata": {
        "colab": {
          "base_uri": "https://localhost:8080/"
        },
        "id": "64sFL8f-QD01",
        "outputId": "eeff3526-57f8-4e37-ffee-71383833af83"
      },
      "source": [
        "train.shape"
      ],
      "execution_count": 263,
      "outputs": [
        {
          "output_type": "execute_result",
          "data": {
            "text/plain": [
              "(8708, 14)"
            ]
          },
          "metadata": {},
          "execution_count": 263
        }
      ]
    },
    {
      "cell_type": "code",
      "metadata": {
        "colab": {
          "base_uri": "https://localhost:8080/"
        },
        "id": "oCiu_IDUQD3S",
        "outputId": "f3373417-7fbb-4ef9-ac8a-5ff9b1d48fe8"
      },
      "source": [
        "train.isna().sum()"
      ],
      "execution_count": 264,
      "outputs": [
        {
          "output_type": "execute_result",
          "data": {
            "text/plain": [
              "id             0\n",
              "season         0\n",
              "holiday        0\n",
              "workingday     0\n",
              "weather        0\n",
              "temp           0\n",
              "temp_feel      0\n",
              "humidity       0\n",
              "windspeed      0\n",
              "demand         0\n",
              "day_of_week    0\n",
              "day_of_year    0\n",
              "month          0\n",
              "hour           0\n",
              "dtype: int64"
            ]
          },
          "metadata": {},
          "execution_count": 264
        }
      ]
    },
    {
      "cell_type": "code",
      "metadata": {
        "colab": {
          "base_uri": "https://localhost:8080/",
          "height": 394
        },
        "id": "5nxZT9_KQD5U",
        "outputId": "ce985d94-35b1-4b95-bd9b-01a7b90bf9dc"
      },
      "source": [
        "train.head()"
      ],
      "execution_count": 265,
      "outputs": [
        {
          "output_type": "execute_result",
          "data": {
            "text/html": [
              "<div>\n",
              "<style scoped>\n",
              "    .dataframe tbody tr th:only-of-type {\n",
              "        vertical-align: middle;\n",
              "    }\n",
              "\n",
              "    .dataframe tbody tr th {\n",
              "        vertical-align: top;\n",
              "    }\n",
              "\n",
              "    .dataframe thead th {\n",
              "        text-align: right;\n",
              "    }\n",
              "</style>\n",
              "<table border=\"1\" class=\"dataframe\">\n",
              "  <thead>\n",
              "    <tr style=\"text-align: right;\">\n",
              "      <th></th>\n",
              "      <th>id</th>\n",
              "      <th>season</th>\n",
              "      <th>holiday</th>\n",
              "      <th>workingday</th>\n",
              "      <th>weather</th>\n",
              "      <th>temp</th>\n",
              "      <th>temp_feel</th>\n",
              "      <th>humidity</th>\n",
              "      <th>windspeed</th>\n",
              "      <th>demand</th>\n",
              "      <th>day_of_week</th>\n",
              "      <th>day_of_year</th>\n",
              "      <th>month</th>\n",
              "      <th>hour</th>\n",
              "    </tr>\n",
              "  </thead>\n",
              "  <tbody>\n",
              "    <tr>\n",
              "      <th>0</th>\n",
              "      <td>1</td>\n",
              "      <td>spring</td>\n",
              "      <td>No</td>\n",
              "      <td>No</td>\n",
              "      <td>Clear or partly cloudy</td>\n",
              "      <td>9.84</td>\n",
              "      <td>14.395</td>\n",
              "      <td>81.0</td>\n",
              "      <td>0.0</td>\n",
              "      <td>2.772589</td>\n",
              "      <td>6</td>\n",
              "      <td>1</td>\n",
              "      <td>1</td>\n",
              "      <td>0</td>\n",
              "    </tr>\n",
              "    <tr>\n",
              "      <th>1</th>\n",
              "      <td>2</td>\n",
              "      <td>spring</td>\n",
              "      <td>No</td>\n",
              "      <td>No</td>\n",
              "      <td>Clear or partly cloudy</td>\n",
              "      <td>9.02</td>\n",
              "      <td>13.635</td>\n",
              "      <td>80.0</td>\n",
              "      <td>0.0</td>\n",
              "      <td>3.688879</td>\n",
              "      <td>6</td>\n",
              "      <td>1</td>\n",
              "      <td>1</td>\n",
              "      <td>1</td>\n",
              "    </tr>\n",
              "    <tr>\n",
              "      <th>2</th>\n",
              "      <td>3</td>\n",
              "      <td>spring</td>\n",
              "      <td>No</td>\n",
              "      <td>No</td>\n",
              "      <td>Clear or partly cloudy</td>\n",
              "      <td>9.02</td>\n",
              "      <td>13.635</td>\n",
              "      <td>80.0</td>\n",
              "      <td>0.0</td>\n",
              "      <td>3.465736</td>\n",
              "      <td>6</td>\n",
              "      <td>1</td>\n",
              "      <td>1</td>\n",
              "      <td>2</td>\n",
              "    </tr>\n",
              "    <tr>\n",
              "      <th>3</th>\n",
              "      <td>4</td>\n",
              "      <td>spring</td>\n",
              "      <td>No</td>\n",
              "      <td>No</td>\n",
              "      <td>Clear or partly cloudy</td>\n",
              "      <td>9.84</td>\n",
              "      <td>14.395</td>\n",
              "      <td>75.0</td>\n",
              "      <td>0.0</td>\n",
              "      <td>2.564949</td>\n",
              "      <td>6</td>\n",
              "      <td>1</td>\n",
              "      <td>1</td>\n",
              "      <td>3</td>\n",
              "    </tr>\n",
              "    <tr>\n",
              "      <th>4</th>\n",
              "      <td>5</td>\n",
              "      <td>spring</td>\n",
              "      <td>No</td>\n",
              "      <td>No</td>\n",
              "      <td>Clear or partly cloudy</td>\n",
              "      <td>9.84</td>\n",
              "      <td>14.395</td>\n",
              "      <td>75.0</td>\n",
              "      <td>0.0</td>\n",
              "      <td>0.000000</td>\n",
              "      <td>6</td>\n",
              "      <td>1</td>\n",
              "      <td>1</td>\n",
              "      <td>4</td>\n",
              "    </tr>\n",
              "  </tbody>\n",
              "</table>\n",
              "</div>"
            ],
            "text/plain": [
              "   id  season holiday workingday  ... day_of_week  day_of_year  month  hour\n",
              "0   1  spring      No         No  ...           6            1      1     0\n",
              "1   2  spring      No         No  ...           6            1      1     1\n",
              "2   3  spring      No         No  ...           6            1      1     2\n",
              "3   4  spring      No         No  ...           6            1      1     3\n",
              "4   5  spring      No         No  ...           6            1      1     4\n",
              "\n",
              "[5 rows x 14 columns]"
            ]
          },
          "metadata": {},
          "execution_count": 265
        }
      ]
    },
    {
      "cell_type": "code",
      "metadata": {
        "colab": {
          "base_uri": "https://localhost:8080/",
          "height": 557
        },
        "id": "TItZLLGiYe45",
        "outputId": "94d7bdb3-435d-4331-a428-0279b063c432"
      },
      "source": [
        "plt.figure(figsize=(9,9))\n",
        "plt.boxplot(train['demand'])\n",
        "plt.show\n"
      ],
      "execution_count": 266,
      "outputs": [
        {
          "output_type": "execute_result",
          "data": {
            "text/plain": [
              "<function matplotlib.pyplot.show>"
            ]
          },
          "metadata": {},
          "execution_count": 266
        },
        {
          "output_type": "display_data",
          "data": {
            "image/png": "[encoded data removed]",
            "text/plain": [
              "<Figure size 648x648 with 1 Axes>"
            ]
          },
          "metadata": {}
        }
      ]
    },
    {
      "cell_type": "code",
      "metadata": {
        "id": "kr-vrV7jYe7S"
      },
      "source": [
        "train_cat=train.select_dtypes(include='object')"
      ],
      "execution_count": 267,
      "outputs": []
    },
    {
      "cell_type": "code",
      "metadata": {
        "colab": {
          "base_uri": "https://localhost:8080/",
          "height": 204
        },
        "id": "7PE0Tj-HY2Zp",
        "outputId": "665934d5-7fa5-4c72-fb93-dc8d8e6bacd8"
      },
      "source": [
        "train_cat.head()"
      ],
      "execution_count": 268,
      "outputs": [
        {
          "output_type": "execute_result",
          "data": {
            "text/html": [
              "<div>\n",
              "<style scoped>\n",
              "    .dataframe tbody tr th:only-of-type {\n",
              "        vertical-align: middle;\n",
              "    }\n",
              "\n",
              "    .dataframe tbody tr th {\n",
              "        vertical-align: top;\n",
              "    }\n",
              "\n",
              "    .dataframe thead th {\n",
              "        text-align: right;\n",
              "    }\n",
              "</style>\n",
              "<table border=\"1\" class=\"dataframe\">\n",
              "  <thead>\n",
              "    <tr style=\"text-align: right;\">\n",
              "      <th></th>\n",
              "      <th>season</th>\n",
              "      <th>holiday</th>\n",
              "      <th>workingday</th>\n",
              "      <th>weather</th>\n",
              "    </tr>\n",
              "  </thead>\n",
              "  <tbody>\n",
              "    <tr>\n",
              "      <th>0</th>\n",
              "      <td>spring</td>\n",
              "      <td>No</td>\n",
              "      <td>No</td>\n",
              "      <td>Clear or partly cloudy</td>\n",
              "    </tr>\n",
              "    <tr>\n",
              "      <th>1</th>\n",
              "      <td>spring</td>\n",
              "      <td>No</td>\n",
              "      <td>No</td>\n",
              "      <td>Clear or partly cloudy</td>\n",
              "    </tr>\n",
              "    <tr>\n",
              "      <th>2</th>\n",
              "      <td>spring</td>\n",
              "      <td>No</td>\n",
              "      <td>No</td>\n",
              "      <td>Clear or partly cloudy</td>\n",
              "    </tr>\n",
              "    <tr>\n",
              "      <th>3</th>\n",
              "      <td>spring</td>\n",
              "      <td>No</td>\n",
              "      <td>No</td>\n",
              "      <td>Clear or partly cloudy</td>\n",
              "    </tr>\n",
              "    <tr>\n",
              "      <th>4</th>\n",
              "      <td>spring</td>\n",
              "      <td>No</td>\n",
              "      <td>No</td>\n",
              "      <td>Clear or partly cloudy</td>\n",
              "    </tr>\n",
              "  </tbody>\n",
              "</table>\n",
              "</div>"
            ],
            "text/plain": [
              "   season holiday workingday                 weather\n",
              "0  spring      No         No  Clear or partly cloudy\n",
              "1  spring      No         No  Clear or partly cloudy\n",
              "2  spring      No         No  Clear or partly cloudy\n",
              "3  spring      No         No  Clear or partly cloudy\n",
              "4  spring      No         No  Clear or partly cloudy"
            ]
          },
          "metadata": {},
          "execution_count": 268
        }
      ]
    },
    {
      "cell_type": "code",
      "metadata": {
        "id": "TEW-JjwBY7J0"
      },
      "source": [
        "# Implimenting the Dummies for Categorical variables\n",
        "train_cat2=train\n",
        "for cols in train_cat:\n",
        "  dummies =pd.get_dummies(train[cols],drop_first=True)\n",
        "  train_cat2 = pd.concat([train_cat2,dummies],axis='columns')"
      ],
      "execution_count": 269,
      "outputs": []
    },
    {
      "cell_type": "code",
      "metadata": {
        "colab": {
          "base_uri": "https://localhost:8080/",
          "height": 445
        },
        "id": "qnx9DoJtZUzY",
        "outputId": "b0d111fd-3e6d-4c71-9c43-7bfc99d3c6cb"
      },
      "source": [
        "train_cat2.head()"
      ],
      "execution_count": 270,
      "outputs": [
        {
          "output_type": "execute_result",
          "data": {
            "text/html": [
              "<div>\n",
              "<style scoped>\n",
              "    .dataframe tbody tr th:only-of-type {\n",
              "        vertical-align: middle;\n",
              "    }\n",
              "\n",
              "    .dataframe tbody tr th {\n",
              "        vertical-align: top;\n",
              "    }\n",
              "\n",
              "    .dataframe thead th {\n",
              "        text-align: right;\n",
              "    }\n",
              "</style>\n",
              "<table border=\"1\" class=\"dataframe\">\n",
              "  <thead>\n",
              "    <tr style=\"text-align: right;\">\n",
              "      <th></th>\n",
              "      <th>id</th>\n",
              "      <th>season</th>\n",
              "      <th>holiday</th>\n",
              "      <th>workingday</th>\n",
              "      <th>weather</th>\n",
              "      <th>temp</th>\n",
              "      <th>temp_feel</th>\n",
              "      <th>humidity</th>\n",
              "      <th>windspeed</th>\n",
              "      <th>demand</th>\n",
              "      <th>day_of_week</th>\n",
              "      <th>day_of_year</th>\n",
              "      <th>month</th>\n",
              "      <th>hour</th>\n",
              "      <th>spring</th>\n",
              "      <th>summer</th>\n",
              "      <th>winter</th>\n",
              "      <th>Yes</th>\n",
              "      <th>Yes</th>\n",
              "      <th>Light snow or rain</th>\n",
              "      <th>Mist</th>\n",
              "      <th>heavy rain/ice pellets/snow + fog</th>\n",
              "    </tr>\n",
              "  </thead>\n",
              "  <tbody>\n",
              "    <tr>\n",
              "      <th>0</th>\n",
              "      <td>1</td>\n",
              "      <td>spring</td>\n",
              "      <td>No</td>\n",
              "      <td>No</td>\n",
              "      <td>Clear or partly cloudy</td>\n",
              "      <td>9.84</td>\n",
              "      <td>14.395</td>\n",
              "      <td>81.0</td>\n",
              "      <td>0.0</td>\n",
              "      <td>2.772589</td>\n",
              "      <td>6</td>\n",
              "      <td>1</td>\n",
              "      <td>1</td>\n",
              "      <td>0</td>\n",
              "      <td>1</td>\n",
              "      <td>0</td>\n",
              "      <td>0</td>\n",
              "      <td>0</td>\n",
              "      <td>0</td>\n",
              "      <td>0</td>\n",
              "      <td>0</td>\n",
              "      <td>0</td>\n",
              "    </tr>\n",
              "    <tr>\n",
              "      <th>1</th>\n",
              "      <td>2</td>\n",
              "      <td>spring</td>\n",
              "      <td>No</td>\n",
              "      <td>No</td>\n",
              "      <td>Clear or partly cloudy</td>\n",
              "      <td>9.02</td>\n",
              "      <td>13.635</td>\n",
              "      <td>80.0</td>\n",
              "      <td>0.0</td>\n",
              "      <td>3.688879</td>\n",
              "      <td>6</td>\n",
              "      <td>1</td>\n",
              "      <td>1</td>\n",
              "      <td>1</td>\n",
              "      <td>1</td>\n",
              "      <td>0</td>\n",
              "      <td>0</td>\n",
              "      <td>0</td>\n",
              "      <td>0</td>\n",
              "      <td>0</td>\n",
              "      <td>0</td>\n",
              "      <td>0</td>\n",
              "    </tr>\n",
              "    <tr>\n",
              "      <th>2</th>\n",
              "      <td>3</td>\n",
              "      <td>spring</td>\n",
              "      <td>No</td>\n",
              "      <td>No</td>\n",
              "      <td>Clear or partly cloudy</td>\n",
              "      <td>9.02</td>\n",
              "      <td>13.635</td>\n",
              "      <td>80.0</td>\n",
              "      <td>0.0</td>\n",
              "      <td>3.465736</td>\n",
              "      <td>6</td>\n",
              "      <td>1</td>\n",
              "      <td>1</td>\n",
              "      <td>2</td>\n",
              "      <td>1</td>\n",
              "      <td>0</td>\n",
              "      <td>0</td>\n",
              "      <td>0</td>\n",
              "      <td>0</td>\n",
              "      <td>0</td>\n",
              "      <td>0</td>\n",
              "      <td>0</td>\n",
              "    </tr>\n",
              "    <tr>\n",
              "      <th>3</th>\n",
              "      <td>4</td>\n",
              "      <td>spring</td>\n",
              "      <td>No</td>\n",
              "      <td>No</td>\n",
              "      <td>Clear or partly cloudy</td>\n",
              "      <td>9.84</td>\n",
              "      <td>14.395</td>\n",
              "      <td>75.0</td>\n",
              "      <td>0.0</td>\n",
              "      <td>2.564949</td>\n",
              "      <td>6</td>\n",
              "      <td>1</td>\n",
              "      <td>1</td>\n",
              "      <td>3</td>\n",
              "      <td>1</td>\n",
              "      <td>0</td>\n",
              "      <td>0</td>\n",
              "      <td>0</td>\n",
              "      <td>0</td>\n",
              "      <td>0</td>\n",
              "      <td>0</td>\n",
              "      <td>0</td>\n",
              "    </tr>\n",
              "    <tr>\n",
              "      <th>4</th>\n",
              "      <td>5</td>\n",
              "      <td>spring</td>\n",
              "      <td>No</td>\n",
              "      <td>No</td>\n",
              "      <td>Clear or partly cloudy</td>\n",
              "      <td>9.84</td>\n",
              "      <td>14.395</td>\n",
              "      <td>75.0</td>\n",
              "      <td>0.0</td>\n",
              "      <td>0.000000</td>\n",
              "      <td>6</td>\n",
              "      <td>1</td>\n",
              "      <td>1</td>\n",
              "      <td>4</td>\n",
              "      <td>1</td>\n",
              "      <td>0</td>\n",
              "      <td>0</td>\n",
              "      <td>0</td>\n",
              "      <td>0</td>\n",
              "      <td>0</td>\n",
              "      <td>0</td>\n",
              "      <td>0</td>\n",
              "    </tr>\n",
              "  </tbody>\n",
              "</table>\n",
              "</div>"
            ],
            "text/plain": [
              "   id  season  ... Mist heavy rain/ice pellets/snow + fog\n",
              "0   1  spring  ...    0                                 0\n",
              "1   2  spring  ...    0                                 0\n",
              "2   3  spring  ...    0                                 0\n",
              "3   4  spring  ...    0                                 0\n",
              "4   5  spring  ...    0                                 0\n",
              "\n",
              "[5 rows x 22 columns]"
            ]
          },
          "metadata": {},
          "execution_count": 270
        }
      ]
    },
    {
      "cell_type": "code",
      "metadata": {
        "colab": {
          "base_uri": "https://localhost:8080/",
          "height": 356
        },
        "id": "BLNOtaKWaibZ",
        "outputId": "26bf7b0b-06d9-4784-9070-b0a3fc655d93"
      },
      "source": [
        "sns.boxplot(train_cat2['windspeed'])"
      ],
      "execution_count": 271,
      "outputs": [
        {
          "output_type": "stream",
          "name": "stderr",
          "text": [
            "/usr/local/lib/python3.7/dist-packages/seaborn/_decorators.py:43: FutureWarning: Pass the following variable as a keyword arg: x. From version 0.12, the only valid positional argument will be `data`, and passing other arguments without an explicit keyword will result in an error or misinterpretation.\n",
            "  FutureWarning\n"
          ]
        },
        {
          "output_type": "execute_result",
          "data": {
            "text/plain": [
              "<matplotlib.axes._subplots.AxesSubplot at 0x7fe1c2336fd0>"
            ]
          },
          "metadata": {},
          "execution_count": 271
        },
        {
          "output_type": "display_data",
          "data": {
            "image/png": "[encoded data removed]",
            "text/plain": [
              "<Figure size 432x288 with 1 Axes>"
            ]
          },
          "metadata": {}
        }
      ]
    },
    {
      "cell_type": "code",
      "metadata": {
        "id": "Dyvei78mczvE"
      },
      "source": [
        ""
      ],
      "execution_count": null,
      "outputs": []
    },
    {
      "cell_type": "code",
      "metadata": {
        "colab": {
          "base_uri": "https://localhost:8080/"
        },
        "id": "MDT40f_EbD7j",
        "outputId": "5855e6e4-7f9d-4a7a-e08b-e10de608b5a8"
      },
      "source": [
        "Q1 = np.percentile(train_cat2['windspeed'], 25, interpolation = 'midpoint')  \n",
        "Q2 = np.percentile(train_cat2['windspeed'], 50, interpolation = 'midpoint')  \n",
        "Q3 = np.percentile(train_cat2['windspeed'], 75, interpolation = 'midpoint')     \n",
        "IQR = Q3 - Q1 \n",
        "low_lim = Q1 - 1.5 * IQR \n",
        "up_lim = Q3 + 1.5 * IQR\n",
        "print('low limit:', low_lim) \n",
        "print('upper limit:', up_lim)"
      ],
      "execution_count": 272,
      "outputs": [
        {
          "output_type": "stream",
          "name": "stdout",
          "text": [
            "low limit: -10.99805\n",
            "upper limit: 37.00075\n"
          ]
        }
      ]
    },
    {
      "cell_type": "code",
      "metadata": {
        "id": "wnh-te2eRcdR"
      },
      "source": [
        ""
      ],
      "execution_count": 273,
      "outputs": []
    }
  ]
}