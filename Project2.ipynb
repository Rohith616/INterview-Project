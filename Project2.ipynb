{
  "nbformat": 4,
  "nbformat_minor": 0,
  "metadata": {
    "colab": {
      "name": "Project2.ipynb",
      "provenance": [],
      "collapsed_sections": [],
      "authorship_tag": "ABX9TyNzxiFthpDNAnF2aODWKP+I",
      "include_colab_link": true
    },
    "kernelspec": {
      "name": "python3",
      "display_name": "Python 3"
    },
    "language_info": {
      "name": "python"
    }
  },
  "cells": [
    {
      "cell_type": "markdown",
      "metadata": {
        "id": "view-in-github",
        "colab_type": "text"
      },
      "source": [
        "<a href=\"https://colab.research.google.com/github/Rohithtechis/INterview-Project/blob/main/Project2.ipynb\" target=\"_parent\"><img src=\"https://colab.research.google.com/assets/colab-badge.svg\" alt=\"Open In Colab\"/></a>"
      ]
    },
    {
      "cell_type": "code",
      "metadata": {
        "id": "QKo1Uyy-sM5K"
      },
      "source": [
        "import numpy as np\n",
        "import pandas as pd\n",
        "import warnings\n",
        "import seaborn as sns\n",
        "import matplotlib.pyplot as plt\n",
        "sns.set(style='white',color_codes=True)"
      ],
      "execution_count": 337,
      "outputs": []
    },
    {
      "cell_type": "code",
      "metadata": {
        "id": "GvcrHvlpsvoa"
      },
      "source": [
        "train=pd.read_csv('/content/train.csv')\n",
        "test=pd.read_csv('/content/test.csv')"
      ],
      "execution_count": 338,
      "outputs": []
    },
    {
      "cell_type": "code",
      "metadata": {
        "colab": {
          "base_uri": "https://localhost:8080/",
          "height": 394
        },
        "id": "lL_xIPeYtEnS",
        "outputId": "43841e14-6dd8-4f4f-f249-b5467979c157"
      },
      "source": [
        "train.head()"
      ],
      "execution_count": 339,
      "outputs": [
        {
          "output_type": "execute_result",
          "data": {
            "text/html": [
              "<div>\n",
              "<style scoped>\n",
              "    .dataframe tbody tr th:only-of-type {\n",
              "        vertical-align: middle;\n",
              "    }\n",
              "\n",
              "    .dataframe tbody tr th {\n",
              "        vertical-align: top;\n",
              "    }\n",
              "\n",
              "    .dataframe thead th {\n",
              "        text-align: right;\n",
              "    }\n",
              "</style>\n",
              "<table border=\"1\" class=\"dataframe\">\n",
              "  <thead>\n",
              "    <tr style=\"text-align: right;\">\n",
              "      <th></th>\n",
              "      <th>id</th>\n",
              "      <th>timestamp</th>\n",
              "      <th>season</th>\n",
              "      <th>holiday</th>\n",
              "      <th>workingday</th>\n",
              "      <th>weather</th>\n",
              "      <th>temp</th>\n",
              "      <th>temp_feel</th>\n",
              "      <th>humidity</th>\n",
              "      <th>windspeed</th>\n",
              "      <th>demand</th>\n",
              "    </tr>\n",
              "  </thead>\n",
              "  <tbody>\n",
              "    <tr>\n",
              "      <th>0</th>\n",
              "      <td>1</td>\n",
              "      <td>2017-01-01 00:00:00</td>\n",
              "      <td>spring</td>\n",
              "      <td>No</td>\n",
              "      <td>No</td>\n",
              "      <td>Clear or partly cloudy</td>\n",
              "      <td>9.84</td>\n",
              "      <td>14.395</td>\n",
              "      <td>81.0</td>\n",
              "      <td>0.0</td>\n",
              "      <td>2.772589</td>\n",
              "    </tr>\n",
              "    <tr>\n",
              "      <th>1</th>\n",
              "      <td>2</td>\n",
              "      <td>2017-01-01 01:00:00</td>\n",
              "      <td>spring</td>\n",
              "      <td>No</td>\n",
              "      <td>No</td>\n",
              "      <td>Clear or partly cloudy</td>\n",
              "      <td>9.02</td>\n",
              "      <td>13.635</td>\n",
              "      <td>80.0</td>\n",
              "      <td>0.0</td>\n",
              "      <td>3.688879</td>\n",
              "    </tr>\n",
              "    <tr>\n",
              "      <th>2</th>\n",
              "      <td>3</td>\n",
              "      <td>2017-01-01 02:00:00</td>\n",
              "      <td>spring</td>\n",
              "      <td>No</td>\n",
              "      <td>No</td>\n",
              "      <td>Clear or partly cloudy</td>\n",
              "      <td>9.02</td>\n",
              "      <td>13.635</td>\n",
              "      <td>80.0</td>\n",
              "      <td>0.0</td>\n",
              "      <td>3.465736</td>\n",
              "    </tr>\n",
              "    <tr>\n",
              "      <th>3</th>\n",
              "      <td>4</td>\n",
              "      <td>2017-01-01 03:00:00</td>\n",
              "      <td>spring</td>\n",
              "      <td>No</td>\n",
              "      <td>No</td>\n",
              "      <td>Clear or partly cloudy</td>\n",
              "      <td>9.84</td>\n",
              "      <td>14.395</td>\n",
              "      <td>75.0</td>\n",
              "      <td>0.0</td>\n",
              "      <td>2.564949</td>\n",
              "    </tr>\n",
              "    <tr>\n",
              "      <th>4</th>\n",
              "      <td>5</td>\n",
              "      <td>2017-01-01 04:00:00</td>\n",
              "      <td>spring</td>\n",
              "      <td>No</td>\n",
              "      <td>No</td>\n",
              "      <td>Clear or partly cloudy</td>\n",
              "      <td>9.84</td>\n",
              "      <td>14.395</td>\n",
              "      <td>75.0</td>\n",
              "      <td>0.0</td>\n",
              "      <td>0.000000</td>\n",
              "    </tr>\n",
              "  </tbody>\n",
              "</table>\n",
              "</div>"
            ],
            "text/plain": [
              "   id            timestamp  season  ... humidity windspeed    demand\n",
              "0   1  2017-01-01 00:00:00  spring  ...     81.0       0.0  2.772589\n",
              "1   2  2017-01-01 01:00:00  spring  ...     80.0       0.0  3.688879\n",
              "2   3  2017-01-01 02:00:00  spring  ...     80.0       0.0  3.465736\n",
              "3   4  2017-01-01 03:00:00  spring  ...     75.0       0.0  2.564949\n",
              "4   5  2017-01-01 04:00:00  spring  ...     75.0       0.0  0.000000\n",
              "\n",
              "[5 rows x 11 columns]"
            ]
          },
          "metadata": {},
          "execution_count": 339
        }
      ]
    },
    {
      "cell_type": "code",
      "metadata": {
        "colab": {
          "base_uri": "https://localhost:8080/"
        },
        "id": "-k6ko1gHC5nU",
        "outputId": "e0b2fab1-440e-4075-bdf6-434dd66eb272"
      },
      "source": [
        "train.shape"
      ],
      "execution_count": 340,
      "outputs": [
        {
          "output_type": "execute_result",
          "data": {
            "text/plain": [
              "(8708, 11)"
            ]
          },
          "metadata": {},
          "execution_count": 340
        }
      ]
    },
    {
      "cell_type": "code",
      "metadata": {
        "colab": {
          "base_uri": "https://localhost:8080/",
          "height": 297
        },
        "id": "uC3LjGAhHL1q",
        "outputId": "126ac865-9d44-42f4-ccf6-622697f6ad38"
      },
      "source": [
        "train.describe()"
      ],
      "execution_count": 341,
      "outputs": [
        {
          "output_type": "execute_result",
          "data": {
            "text/html": [
              "<div>\n",
              "<style scoped>\n",
              "    .dataframe tbody tr th:only-of-type {\n",
              "        vertical-align: middle;\n",
              "    }\n",
              "\n",
              "    .dataframe tbody tr th {\n",
              "        vertical-align: top;\n",
              "    }\n",
              "\n",
              "    .dataframe thead th {\n",
              "        text-align: right;\n",
              "    }\n",
              "</style>\n",
              "<table border=\"1\" class=\"dataframe\">\n",
              "  <thead>\n",
              "    <tr style=\"text-align: right;\">\n",
              "      <th></th>\n",
              "      <th>id</th>\n",
              "      <th>temp</th>\n",
              "      <th>temp_feel</th>\n",
              "      <th>humidity</th>\n",
              "      <th>windspeed</th>\n",
              "      <th>demand</th>\n",
              "    </tr>\n",
              "  </thead>\n",
              "  <tbody>\n",
              "    <tr>\n",
              "      <th>count</th>\n",
              "      <td>8708.000000</td>\n",
              "      <td>7506.000000</td>\n",
              "      <td>8606.000000</td>\n",
              "      <td>8669.00000</td>\n",
              "      <td>8508.000000</td>\n",
              "      <td>8708.000000</td>\n",
              "    </tr>\n",
              "    <tr>\n",
              "      <th>mean</th>\n",
              "      <td>4354.500000</td>\n",
              "      <td>20.089454</td>\n",
              "      <td>23.531261</td>\n",
              "      <td>60.99354</td>\n",
              "      <td>13.048589</td>\n",
              "      <td>4.452725</td>\n",
              "    </tr>\n",
              "    <tr>\n",
              "      <th>std</th>\n",
              "      <td>2513.927405</td>\n",
              "      <td>8.023304</td>\n",
              "      <td>8.737997</td>\n",
              "      <td>19.67989</td>\n",
              "      <td>8.311058</td>\n",
              "      <td>1.493963</td>\n",
              "    </tr>\n",
              "    <tr>\n",
              "      <th>min</th>\n",
              "      <td>1.000000</td>\n",
              "      <td>0.820000</td>\n",
              "      <td>0.760000</td>\n",
              "      <td>0.00000</td>\n",
              "      <td>0.000000</td>\n",
              "      <td>0.000000</td>\n",
              "    </tr>\n",
              "    <tr>\n",
              "      <th>25%</th>\n",
              "      <td>2177.750000</td>\n",
              "      <td>13.940000</td>\n",
              "      <td>15.910000</td>\n",
              "      <td>46.00000</td>\n",
              "      <td>7.001500</td>\n",
              "      <td>3.637586</td>\n",
              "    </tr>\n",
              "    <tr>\n",
              "      <th>50%</th>\n",
              "      <td>4354.500000</td>\n",
              "      <td>20.500000</td>\n",
              "      <td>24.240000</td>\n",
              "      <td>60.00000</td>\n",
              "      <td>12.998000</td>\n",
              "      <td>4.867534</td>\n",
              "    </tr>\n",
              "    <tr>\n",
              "      <th>75%</th>\n",
              "      <td>6531.250000</td>\n",
              "      <td>26.240000</td>\n",
              "      <td>31.060000</td>\n",
              "      <td>77.00000</td>\n",
              "      <td>19.001200</td>\n",
              "      <td>5.556828</td>\n",
              "    </tr>\n",
              "    <tr>\n",
              "      <th>max</th>\n",
              "      <td>8708.000000</td>\n",
              "      <td>41.000000</td>\n",
              "      <td>45.455000</td>\n",
              "      <td>100.00000</td>\n",
              "      <td>56.996900</td>\n",
              "      <td>6.792344</td>\n",
              "    </tr>\n",
              "  </tbody>\n",
              "</table>\n",
              "</div>"
            ],
            "text/plain": [
              "                id         temp  ...    windspeed       demand\n",
              "count  8708.000000  7506.000000  ...  8508.000000  8708.000000\n",
              "mean   4354.500000    20.089454  ...    13.048589     4.452725\n",
              "std    2513.927405     8.023304  ...     8.311058     1.493963\n",
              "min       1.000000     0.820000  ...     0.000000     0.000000\n",
              "25%    2177.750000    13.940000  ...     7.001500     3.637586\n",
              "50%    4354.500000    20.500000  ...    12.998000     4.867534\n",
              "75%    6531.250000    26.240000  ...    19.001200     5.556828\n",
              "max    8708.000000    41.000000  ...    56.996900     6.792344\n",
              "\n",
              "[8 rows x 6 columns]"
            ]
          },
          "metadata": {},
          "execution_count": 341
        }
      ]
    },
    {
      "cell_type": "code",
      "metadata": {
        "colab": {
          "base_uri": "https://localhost:8080/"
        },
        "id": "mg-U2RzlGtiA",
        "outputId": "4f6e3826-b798-4136-f1fd-e096a626f1a5"
      },
      "source": [
        "train.isna().sum()"
      ],
      "execution_count": 342,
      "outputs": [
        {
          "output_type": "execute_result",
          "data": {
            "text/plain": [
              "id               0\n",
              "timestamp        0\n",
              "season           0\n",
              "holiday          0\n",
              "workingday       0\n",
              "weather          0\n",
              "temp          1202\n",
              "temp_feel      102\n",
              "humidity        39\n",
              "windspeed      200\n",
              "demand           0\n",
              "dtype: int64"
            ]
          },
          "metadata": {},
          "execution_count": 342
        }
      ]
    },
    {
      "cell_type": "code",
      "metadata": {
        "id": "_N5jZxI6HUAc"
      },
      "source": [
        "train.fillna(train['temp'].mean(),inplace=True)\n",
        "train.fillna(train['temp_feel'].mean(),inplace=True)\n",
        "train.fillna(train['humidity'].mean(),inplace=True)\n",
        "train.fillna(train['windspeed'].mean(),inplace=True)"
      ],
      "execution_count": 343,
      "outputs": []
    },
    {
      "cell_type": "code",
      "metadata": {
        "colab": {
          "base_uri": "https://localhost:8080/"
        },
        "id": "nS4gG9_NHUCu",
        "outputId": "9a3f5970-5599-413b-a4e5-be994f2bb311"
      },
      "source": [
        "train.isna().sum()"
      ],
      "execution_count": 344,
      "outputs": [
        {
          "output_type": "execute_result",
          "data": {
            "text/plain": [
              "id            0\n",
              "timestamp     0\n",
              "season        0\n",
              "holiday       0\n",
              "workingday    0\n",
              "weather       0\n",
              "temp          0\n",
              "temp_feel     0\n",
              "humidity      0\n",
              "windspeed     0\n",
              "demand        0\n",
              "dtype: int64"
            ]
          },
          "metadata": {},
          "execution_count": 344
        }
      ]
    },
    {
      "cell_type": "code",
      "metadata": {
        "id": "BhhLa9dJHUNz"
      },
      "source": [
        "def timefeatures(train):\n",
        "  train['datetime']=pd.to_datetime(train['timestamp'])\n",
        "  train['day_of_week']=train['datetime'].dt.dayofweek\n",
        "  train['day_of_year']=train['datetime'].dt.dayofyear\n",
        "  train['month']=train['datetime'].dt.month\n",
        "  train['hour']=train['datetime'].dt.hour\n",
        "  return train"
      ],
      "execution_count": 345,
      "outputs": []
    },
    {
      "cell_type": "code",
      "metadata": {
        "colab": {
          "base_uri": "https://localhost:8080/",
          "height": 394
        },
        "id": "GsXfV7iYL1-4",
        "outputId": "c6719a0b-c306-4b52-fe37-e09a3c5f513d"
      },
      "source": [
        "train=timefeatures(train)\n",
        "train.drop(['timestamp','datetime'],axis=1,inplace=True)\n",
        "train.head()"
      ],
      "execution_count": 346,
      "outputs": [
        {
          "output_type": "execute_result",
          "data": {
            "text/html": [
              "<div>\n",
              "<style scoped>\n",
              "    .dataframe tbody tr th:only-of-type {\n",
              "        vertical-align: middle;\n",
              "    }\n",
              "\n",
              "    .dataframe tbody tr th {\n",
              "        vertical-align: top;\n",
              "    }\n",
              "\n",
              "    .dataframe thead th {\n",
              "        text-align: right;\n",
              "    }\n",
              "</style>\n",
              "<table border=\"1\" class=\"dataframe\">\n",
              "  <thead>\n",
              "    <tr style=\"text-align: right;\">\n",
              "      <th></th>\n",
              "      <th>id</th>\n",
              "      <th>season</th>\n",
              "      <th>holiday</th>\n",
              "      <th>workingday</th>\n",
              "      <th>weather</th>\n",
              "      <th>temp</th>\n",
              "      <th>temp_feel</th>\n",
              "      <th>humidity</th>\n",
              "      <th>windspeed</th>\n",
              "      <th>demand</th>\n",
              "      <th>day_of_week</th>\n",
              "      <th>day_of_year</th>\n",
              "      <th>month</th>\n",
              "      <th>hour</th>\n",
              "    </tr>\n",
              "  </thead>\n",
              "  <tbody>\n",
              "    <tr>\n",
              "      <th>0</th>\n",
              "      <td>1</td>\n",
              "      <td>spring</td>\n",
              "      <td>No</td>\n",
              "      <td>No</td>\n",
              "      <td>Clear or partly cloudy</td>\n",
              "      <td>9.84</td>\n",
              "      <td>14.395</td>\n",
              "      <td>81.0</td>\n",
              "      <td>0.0</td>\n",
              "      <td>2.772589</td>\n",
              "      <td>6</td>\n",
              "      <td>1</td>\n",
              "      <td>1</td>\n",
              "      <td>0</td>\n",
              "    </tr>\n",
              "    <tr>\n",
              "      <th>1</th>\n",
              "      <td>2</td>\n",
              "      <td>spring</td>\n",
              "      <td>No</td>\n",
              "      <td>No</td>\n",
              "      <td>Clear or partly cloudy</td>\n",
              "      <td>9.02</td>\n",
              "      <td>13.635</td>\n",
              "      <td>80.0</td>\n",
              "      <td>0.0</td>\n",
              "      <td>3.688879</td>\n",
              "      <td>6</td>\n",
              "      <td>1</td>\n",
              "      <td>1</td>\n",
              "      <td>1</td>\n",
              "    </tr>\n",
              "    <tr>\n",
              "      <th>2</th>\n",
              "      <td>3</td>\n",
              "      <td>spring</td>\n",
              "      <td>No</td>\n",
              "      <td>No</td>\n",
              "      <td>Clear or partly cloudy</td>\n",
              "      <td>9.02</td>\n",
              "      <td>13.635</td>\n",
              "      <td>80.0</td>\n",
              "      <td>0.0</td>\n",
              "      <td>3.465736</td>\n",
              "      <td>6</td>\n",
              "      <td>1</td>\n",
              "      <td>1</td>\n",
              "      <td>2</td>\n",
              "    </tr>\n",
              "    <tr>\n",
              "      <th>3</th>\n",
              "      <td>4</td>\n",
              "      <td>spring</td>\n",
              "      <td>No</td>\n",
              "      <td>No</td>\n",
              "      <td>Clear or partly cloudy</td>\n",
              "      <td>9.84</td>\n",
              "      <td>14.395</td>\n",
              "      <td>75.0</td>\n",
              "      <td>0.0</td>\n",
              "      <td>2.564949</td>\n",
              "      <td>6</td>\n",
              "      <td>1</td>\n",
              "      <td>1</td>\n",
              "      <td>3</td>\n",
              "    </tr>\n",
              "    <tr>\n",
              "      <th>4</th>\n",
              "      <td>5</td>\n",
              "      <td>spring</td>\n",
              "      <td>No</td>\n",
              "      <td>No</td>\n",
              "      <td>Clear or partly cloudy</td>\n",
              "      <td>9.84</td>\n",
              "      <td>14.395</td>\n",
              "      <td>75.0</td>\n",
              "      <td>0.0</td>\n",
              "      <td>0.000000</td>\n",
              "      <td>6</td>\n",
              "      <td>1</td>\n",
              "      <td>1</td>\n",
              "      <td>4</td>\n",
              "    </tr>\n",
              "  </tbody>\n",
              "</table>\n",
              "</div>"
            ],
            "text/plain": [
              "   id  season holiday workingday  ... day_of_week  day_of_year  month  hour\n",
              "0   1  spring      No         No  ...           6            1      1     0\n",
              "1   2  spring      No         No  ...           6            1      1     1\n",
              "2   3  spring      No         No  ...           6            1      1     2\n",
              "3   4  spring      No         No  ...           6            1      1     3\n",
              "4   5  spring      No         No  ...           6            1      1     4\n",
              "\n",
              "[5 rows x 14 columns]"
            ]
          },
          "metadata": {},
          "execution_count": 346
        }
      ]
    },
    {
      "cell_type": "code",
      "metadata": {
        "colab": {
          "base_uri": "https://localhost:8080/"
        },
        "id": "ev--zJF2L2Dj",
        "outputId": "27deff2b-5853-46ce-d174-31b80b457689"
      },
      "source": [
        "train.info()"
      ],
      "execution_count": 347,
      "outputs": [
        {
          "output_type": "stream",
          "name": "stdout",
          "text": [
            "<class 'pandas.core.frame.DataFrame'>\n",
            "RangeIndex: 8708 entries, 0 to 8707\n",
            "Data columns (total 14 columns):\n",
            " #   Column       Non-Null Count  Dtype  \n",
            "---  ------       --------------  -----  \n",
            " 0   id           8708 non-null   int64  \n",
            " 1   season       8708 non-null   object \n",
            " 2   holiday      8708 non-null   object \n",
            " 3   workingday   8708 non-null   object \n",
            " 4   weather      8708 non-null   object \n",
            " 5   temp         8708 non-null   float64\n",
            " 6   temp_feel    8708 non-null   float64\n",
            " 7   humidity     8708 non-null   float64\n",
            " 8   windspeed    8708 non-null   float64\n",
            " 9   demand       8708 non-null   float64\n",
            " 10  day_of_week  8708 non-null   int64  \n",
            " 11  day_of_year  8708 non-null   int64  \n",
            " 12  month        8708 non-null   int64  \n",
            " 13  hour         8708 non-null   int64  \n",
            "dtypes: float64(5), int64(5), object(4)\n",
            "memory usage: 952.6+ KB\n"
          ]
        }
      ]
    },
    {
      "cell_type": "code",
      "metadata": {
        "colab": {
          "base_uri": "https://localhost:8080/",
          "height": 317
        },
        "id": "NqXz9wdWL2Fq",
        "outputId": "9cd45612-02b9-4547-d689-b92ad48cac7c"
      },
      "source": [
        "train.describe()"
      ],
      "execution_count": 348,
      "outputs": [
        {
          "output_type": "execute_result",
          "data": {
            "text/html": [
              "<div>\n",
              "<style scoped>\n",
              "    .dataframe tbody tr th:only-of-type {\n",
              "        vertical-align: middle;\n",
              "    }\n",
              "\n",
              "    .dataframe tbody tr th {\n",
              "        vertical-align: top;\n",
              "    }\n",
              "\n",
              "    .dataframe thead th {\n",
              "        text-align: right;\n",
              "    }\n",
              "</style>\n",
              "<table border=\"1\" class=\"dataframe\">\n",
              "  <thead>\n",
              "    <tr style=\"text-align: right;\">\n",
              "      <th></th>\n",
              "      <th>id</th>\n",
              "      <th>temp</th>\n",
              "      <th>temp_feel</th>\n",
              "      <th>humidity</th>\n",
              "      <th>windspeed</th>\n",
              "      <th>demand</th>\n",
              "      <th>day_of_week</th>\n",
              "      <th>day_of_year</th>\n",
              "      <th>month</th>\n",
              "      <th>hour</th>\n",
              "    </tr>\n",
              "  </thead>\n",
              "  <tbody>\n",
              "    <tr>\n",
              "      <th>count</th>\n",
              "      <td>8708.000000</td>\n",
              "      <td>8708.000000</td>\n",
              "      <td>8708.000000</td>\n",
              "      <td>8708.000000</td>\n",
              "      <td>8708.000000</td>\n",
              "      <td>8708.000000</td>\n",
              "      <td>8708.000000</td>\n",
              "      <td>8708.000000</td>\n",
              "      <td>8708.000000</td>\n",
              "      <td>8708.000000</td>\n",
              "    </tr>\n",
              "    <tr>\n",
              "      <th>mean</th>\n",
              "      <td>4354.500000</td>\n",
              "      <td>20.089454</td>\n",
              "      <td>23.490946</td>\n",
              "      <td>60.810346</td>\n",
              "      <td>13.210300</td>\n",
              "      <td>4.452725</td>\n",
              "      <td>3.018948</td>\n",
              "      <td>149.825678</td>\n",
              "      <td>5.628388</td>\n",
              "      <td>11.545590</td>\n",
              "    </tr>\n",
              "    <tr>\n",
              "      <th>std</th>\n",
              "      <td>2513.927405</td>\n",
              "      <td>7.448937</td>\n",
              "      <td>8.694555</td>\n",
              "      <td>19.824833</td>\n",
              "      <td>8.282489</td>\n",
              "      <td>1.493963</td>\n",
              "      <td>2.003897</td>\n",
              "      <td>97.968074</td>\n",
              "      <td>3.220104</td>\n",
              "      <td>6.916298</td>\n",
              "    </tr>\n",
              "    <tr>\n",
              "      <th>min</th>\n",
              "      <td>1.000000</td>\n",
              "      <td>0.820000</td>\n",
              "      <td>0.760000</td>\n",
              "      <td>0.000000</td>\n",
              "      <td>0.000000</td>\n",
              "      <td>0.000000</td>\n",
              "      <td>0.000000</td>\n",
              "      <td>1.000000</td>\n",
              "      <td>1.000000</td>\n",
              "      <td>0.000000</td>\n",
              "    </tr>\n",
              "    <tr>\n",
              "      <th>25%</th>\n",
              "      <td>2177.750000</td>\n",
              "      <td>14.760000</td>\n",
              "      <td>16.665000</td>\n",
              "      <td>46.000000</td>\n",
              "      <td>7.001500</td>\n",
              "      <td>3.637586</td>\n",
              "      <td>1.000000</td>\n",
              "      <td>68.000000</td>\n",
              "      <td>3.000000</td>\n",
              "      <td>6.000000</td>\n",
              "    </tr>\n",
              "    <tr>\n",
              "      <th>50%</th>\n",
              "      <td>4354.500000</td>\n",
              "      <td>20.089454</td>\n",
              "      <td>24.240000</td>\n",
              "      <td>60.000000</td>\n",
              "      <td>12.998000</td>\n",
              "      <td>4.867534</td>\n",
              "      <td>3.000000</td>\n",
              "      <td>136.000000</td>\n",
              "      <td>5.000000</td>\n",
              "      <td>12.000000</td>\n",
              "    </tr>\n",
              "    <tr>\n",
              "      <th>75%</th>\n",
              "      <td>6531.250000</td>\n",
              "      <td>25.420000</td>\n",
              "      <td>31.060000</td>\n",
              "      <td>77.000000</td>\n",
              "      <td>19.001200</td>\n",
              "      <td>5.556828</td>\n",
              "      <td>5.000000</td>\n",
              "      <td>217.000000</td>\n",
              "      <td>8.000000</td>\n",
              "      <td>18.000000</td>\n",
              "    </tr>\n",
              "    <tr>\n",
              "      <th>max</th>\n",
              "      <td>8708.000000</td>\n",
              "      <td>41.000000</td>\n",
              "      <td>45.455000</td>\n",
              "      <td>100.000000</td>\n",
              "      <td>56.996900</td>\n",
              "      <td>6.792344</td>\n",
              "      <td>6.000000</td>\n",
              "      <td>353.000000</td>\n",
              "      <td>12.000000</td>\n",
              "      <td>23.000000</td>\n",
              "    </tr>\n",
              "  </tbody>\n",
              "</table>\n",
              "</div>"
            ],
            "text/plain": [
              "                id         temp  ...        month         hour\n",
              "count  8708.000000  8708.000000  ...  8708.000000  8708.000000\n",
              "mean   4354.500000    20.089454  ...     5.628388    11.545590\n",
              "std    2513.927405     7.448937  ...     3.220104     6.916298\n",
              "min       1.000000     0.820000  ...     1.000000     0.000000\n",
              "25%    2177.750000    14.760000  ...     3.000000     6.000000\n",
              "50%    4354.500000    20.089454  ...     5.000000    12.000000\n",
              "75%    6531.250000    25.420000  ...     8.000000    18.000000\n",
              "max    8708.000000    41.000000  ...    12.000000    23.000000\n",
              "\n",
              "[8 rows x 10 columns]"
            ]
          },
          "metadata": {},
          "execution_count": 348
        }
      ]
    },
    {
      "cell_type": "code",
      "metadata": {
        "colab": {
          "base_uri": "https://localhost:8080/"
        },
        "id": "NBTdGEDSM5d_",
        "outputId": "7d9b0fb4-9538-4210-a36d-bb30f6811108"
      },
      "source": [
        "train.shape"
      ],
      "execution_count": 349,
      "outputs": [
        {
          "output_type": "execute_result",
          "data": {
            "text/plain": [
              "(8708, 14)"
            ]
          },
          "metadata": {},
          "execution_count": 349
        }
      ]
    },
    {
      "cell_type": "code",
      "metadata": {
        "id": "2_ZviAKiM5gQ"
      },
      "source": [
        "train_c=train.select_dtypes(include='object')"
      ],
      "execution_count": 350,
      "outputs": []
    },
    {
      "cell_type": "code",
      "metadata": {
        "colab": {
          "base_uri": "https://localhost:8080/",
          "height": 204
        },
        "id": "3sGKN751M5ib",
        "outputId": "c4177200-3c14-4f7f-c810-9cd81885c252"
      },
      "source": [
        "train_c.head()"
      ],
      "execution_count": 351,
      "outputs": [
        {
          "output_type": "execute_result",
          "data": {
            "text/html": [
              "<div>\n",
              "<style scoped>\n",
              "    .dataframe tbody tr th:only-of-type {\n",
              "        vertical-align: middle;\n",
              "    }\n",
              "\n",
              "    .dataframe tbody tr th {\n",
              "        vertical-align: top;\n",
              "    }\n",
              "\n",
              "    .dataframe thead th {\n",
              "        text-align: right;\n",
              "    }\n",
              "</style>\n",
              "<table border=\"1\" class=\"dataframe\">\n",
              "  <thead>\n",
              "    <tr style=\"text-align: right;\">\n",
              "      <th></th>\n",
              "      <th>season</th>\n",
              "      <th>holiday</th>\n",
              "      <th>workingday</th>\n",
              "      <th>weather</th>\n",
              "    </tr>\n",
              "  </thead>\n",
              "  <tbody>\n",
              "    <tr>\n",
              "      <th>0</th>\n",
              "      <td>spring</td>\n",
              "      <td>No</td>\n",
              "      <td>No</td>\n",
              "      <td>Clear or partly cloudy</td>\n",
              "    </tr>\n",
              "    <tr>\n",
              "      <th>1</th>\n",
              "      <td>spring</td>\n",
              "      <td>No</td>\n",
              "      <td>No</td>\n",
              "      <td>Clear or partly cloudy</td>\n",
              "    </tr>\n",
              "    <tr>\n",
              "      <th>2</th>\n",
              "      <td>spring</td>\n",
              "      <td>No</td>\n",
              "      <td>No</td>\n",
              "      <td>Clear or partly cloudy</td>\n",
              "    </tr>\n",
              "    <tr>\n",
              "      <th>3</th>\n",
              "      <td>spring</td>\n",
              "      <td>No</td>\n",
              "      <td>No</td>\n",
              "      <td>Clear or partly cloudy</td>\n",
              "    </tr>\n",
              "    <tr>\n",
              "      <th>4</th>\n",
              "      <td>spring</td>\n",
              "      <td>No</td>\n",
              "      <td>No</td>\n",
              "      <td>Clear or partly cloudy</td>\n",
              "    </tr>\n",
              "  </tbody>\n",
              "</table>\n",
              "</div>"
            ],
            "text/plain": [
              "   season holiday workingday                 weather\n",
              "0  spring      No         No  Clear or partly cloudy\n",
              "1  spring      No         No  Clear or partly cloudy\n",
              "2  spring      No         No  Clear or partly cloudy\n",
              "3  spring      No         No  Clear or partly cloudy\n",
              "4  spring      No         No  Clear or partly cloudy"
            ]
          },
          "metadata": {},
          "execution_count": 351
        }
      ]
    },
    {
      "cell_type": "code",
      "metadata": {
        "id": "UJNXjIz-Nb27"
      },
      "source": [
        "train2=train\n",
        "for cols in train_c:\n",
        "  dummies =pd.get_dummies(train[cols],drop_first=True)\n",
        "  train2 = pd.concat([train2,dummies],axis='columns')"
      ],
      "execution_count": 352,
      "outputs": []
    },
    {
      "cell_type": "code",
      "metadata": {
        "colab": {
          "base_uri": "https://localhost:8080/",
          "height": 445
        },
        "id": "kv72PXULNb5U",
        "outputId": "ee58914c-e07e-4969-a2a6-7f51c95179f6"
      },
      "source": [
        "train2.head()"
      ],
      "execution_count": 353,
      "outputs": [
        {
          "output_type": "execute_result",
          "data": {
            "text/html": [
              "<div>\n",
              "<style scoped>\n",
              "    .dataframe tbody tr th:only-of-type {\n",
              "        vertical-align: middle;\n",
              "    }\n",
              "\n",
              "    .dataframe tbody tr th {\n",
              "        vertical-align: top;\n",
              "    }\n",
              "\n",
              "    .dataframe thead th {\n",
              "        text-align: right;\n",
              "    }\n",
              "</style>\n",
              "<table border=\"1\" class=\"dataframe\">\n",
              "  <thead>\n",
              "    <tr style=\"text-align: right;\">\n",
              "      <th></th>\n",
              "      <th>id</th>\n",
              "      <th>season</th>\n",
              "      <th>holiday</th>\n",
              "      <th>workingday</th>\n",
              "      <th>weather</th>\n",
              "      <th>temp</th>\n",
              "      <th>temp_feel</th>\n",
              "      <th>humidity</th>\n",
              "      <th>windspeed</th>\n",
              "      <th>demand</th>\n",
              "      <th>day_of_week</th>\n",
              "      <th>day_of_year</th>\n",
              "      <th>month</th>\n",
              "      <th>hour</th>\n",
              "      <th>spring</th>\n",
              "      <th>summer</th>\n",
              "      <th>winter</th>\n",
              "      <th>Yes</th>\n",
              "      <th>Yes</th>\n",
              "      <th>Light snow or rain</th>\n",
              "      <th>Mist</th>\n",
              "      <th>heavy rain/ice pellets/snow + fog</th>\n",
              "    </tr>\n",
              "  </thead>\n",
              "  <tbody>\n",
              "    <tr>\n",
              "      <th>0</th>\n",
              "      <td>1</td>\n",
              "      <td>spring</td>\n",
              "      <td>No</td>\n",
              "      <td>No</td>\n",
              "      <td>Clear or partly cloudy</td>\n",
              "      <td>9.84</td>\n",
              "      <td>14.395</td>\n",
              "      <td>81.0</td>\n",
              "      <td>0.0</td>\n",
              "      <td>2.772589</td>\n",
              "      <td>6</td>\n",
              "      <td>1</td>\n",
              "      <td>1</td>\n",
              "      <td>0</td>\n",
              "      <td>1</td>\n",
              "      <td>0</td>\n",
              "      <td>0</td>\n",
              "      <td>0</td>\n",
              "      <td>0</td>\n",
              "      <td>0</td>\n",
              "      <td>0</td>\n",
              "      <td>0</td>\n",
              "    </tr>\n",
              "    <tr>\n",
              "      <th>1</th>\n",
              "      <td>2</td>\n",
              "      <td>spring</td>\n",
              "      <td>No</td>\n",
              "      <td>No</td>\n",
              "      <td>Clear or partly cloudy</td>\n",
              "      <td>9.02</td>\n",
              "      <td>13.635</td>\n",
              "      <td>80.0</td>\n",
              "      <td>0.0</td>\n",
              "      <td>3.688879</td>\n",
              "      <td>6</td>\n",
              "      <td>1</td>\n",
              "      <td>1</td>\n",
              "      <td>1</td>\n",
              "      <td>1</td>\n",
              "      <td>0</td>\n",
              "      <td>0</td>\n",
              "      <td>0</td>\n",
              "      <td>0</td>\n",
              "      <td>0</td>\n",
              "      <td>0</td>\n",
              "      <td>0</td>\n",
              "    </tr>\n",
              "    <tr>\n",
              "      <th>2</th>\n",
              "      <td>3</td>\n",
              "      <td>spring</td>\n",
              "      <td>No</td>\n",
              "      <td>No</td>\n",
              "      <td>Clear or partly cloudy</td>\n",
              "      <td>9.02</td>\n",
              "      <td>13.635</td>\n",
              "      <td>80.0</td>\n",
              "      <td>0.0</td>\n",
              "      <td>3.465736</td>\n",
              "      <td>6</td>\n",
              "      <td>1</td>\n",
              "      <td>1</td>\n",
              "      <td>2</td>\n",
              "      <td>1</td>\n",
              "      <td>0</td>\n",
              "      <td>0</td>\n",
              "      <td>0</td>\n",
              "      <td>0</td>\n",
              "      <td>0</td>\n",
              "      <td>0</td>\n",
              "      <td>0</td>\n",
              "    </tr>\n",
              "    <tr>\n",
              "      <th>3</th>\n",
              "      <td>4</td>\n",
              "      <td>spring</td>\n",
              "      <td>No</td>\n",
              "      <td>No</td>\n",
              "      <td>Clear or partly cloudy</td>\n",
              "      <td>9.84</td>\n",
              "      <td>14.395</td>\n",
              "      <td>75.0</td>\n",
              "      <td>0.0</td>\n",
              "      <td>2.564949</td>\n",
              "      <td>6</td>\n",
              "      <td>1</td>\n",
              "      <td>1</td>\n",
              "      <td>3</td>\n",
              "      <td>1</td>\n",
              "      <td>0</td>\n",
              "      <td>0</td>\n",
              "      <td>0</td>\n",
              "      <td>0</td>\n",
              "      <td>0</td>\n",
              "      <td>0</td>\n",
              "      <td>0</td>\n",
              "    </tr>\n",
              "    <tr>\n",
              "      <th>4</th>\n",
              "      <td>5</td>\n",
              "      <td>spring</td>\n",
              "      <td>No</td>\n",
              "      <td>No</td>\n",
              "      <td>Clear or partly cloudy</td>\n",
              "      <td>9.84</td>\n",
              "      <td>14.395</td>\n",
              "      <td>75.0</td>\n",
              "      <td>0.0</td>\n",
              "      <td>0.000000</td>\n",
              "      <td>6</td>\n",
              "      <td>1</td>\n",
              "      <td>1</td>\n",
              "      <td>4</td>\n",
              "      <td>1</td>\n",
              "      <td>0</td>\n",
              "      <td>0</td>\n",
              "      <td>0</td>\n",
              "      <td>0</td>\n",
              "      <td>0</td>\n",
              "      <td>0</td>\n",
              "      <td>0</td>\n",
              "    </tr>\n",
              "  </tbody>\n",
              "</table>\n",
              "</div>"
            ],
            "text/plain": [
              "   id  season  ... Mist heavy rain/ice pellets/snow + fog\n",
              "0   1  spring  ...    0                                 0\n",
              "1   2  spring  ...    0                                 0\n",
              "2   3  spring  ...    0                                 0\n",
              "3   4  spring  ...    0                                 0\n",
              "4   5  spring  ...    0                                 0\n",
              "\n",
              "[5 rows x 22 columns]"
            ]
          },
          "metadata": {},
          "execution_count": 353
        }
      ]
    },
    {
      "cell_type": "code",
      "metadata": {
        "colab": {
          "base_uri": "https://localhost:8080/",
          "height": 356
        },
        "id": "MrZ5R0IYc7rx",
        "outputId": "1ef2f589-ec07-4b1c-a257-07be805eb31f"
      },
      "source": [
        "sns.boxplot(train2['temp'])"
      ],
      "execution_count": 354,
      "outputs": [
        {
          "output_type": "stream",
          "name": "stderr",
          "text": [
            "/usr/local/lib/python3.7/dist-packages/seaborn/_decorators.py:43: FutureWarning: Pass the following variable as a keyword arg: x. From version 0.12, the only valid positional argument will be `data`, and passing other arguments without an explicit keyword will result in an error or misinterpretation.\n",
            "  FutureWarning\n"
          ]
        },
        {
          "output_type": "execute_result",
          "data": {
            "text/plain": [
              "<matplotlib.axes._subplots.AxesSubplot at 0x7f11ec41e050>"
            ]
          },
          "metadata": {},
          "execution_count": 354
        },
        {
          "output_type": "display_data",
          "data": {
            "image/png": "[encoded data removed]",
            "text/plain": [
              "<Figure size 432x288 with 1 Axes>"
            ]
          },
          "metadata": {}
        }
      ]
    },
    {
      "cell_type": "code",
      "metadata": {
        "colab": {
          "base_uri": "https://localhost:8080/",
          "height": 356
        },
        "id": "4SugkD4ldQBV",
        "outputId": "f72bd4b2-16c5-4cd7-eaa6-526bf4f54bad"
      },
      "source": [
        "sns.boxplot(train2['temp_feel'])"
      ],
      "execution_count": 355,
      "outputs": [
        {
          "output_type": "stream",
          "name": "stderr",
          "text": [
            "/usr/local/lib/python3.7/dist-packages/seaborn/_decorators.py:43: FutureWarning: Pass the following variable as a keyword arg: x. From version 0.12, the only valid positional argument will be `data`, and passing other arguments without an explicit keyword will result in an error or misinterpretation.\n",
            "  FutureWarning\n"
          ]
        },
        {
          "output_type": "execute_result",
          "data": {
            "text/plain": [
              "<matplotlib.axes._subplots.AxesSubplot at 0x7f11ec380450>"
            ]
          },
          "metadata": {},
          "execution_count": 355
        },
        {
          "output_type": "display_data",
          "data": {
            "image/png": "[encoded data removed]",
            "text/plain": [
              "<Figure size 432x288 with 1 Axes>"
            ]
          },
          "metadata": {}
        }
      ]
    },
    {
      "cell_type": "code",
      "metadata": {
        "colab": {
          "base_uri": "https://localhost:8080/",
          "height": 356
        },
        "id": "o4i0Q4AzdTVw",
        "outputId": "ba770e22-a59a-4148-d9c9-41072e0a2163"
      },
      "source": [
        "sns.boxplot(train2['humidity'])"
      ],
      "execution_count": 356,
      "outputs": [
        {
          "output_type": "stream",
          "name": "stderr",
          "text": [
            "/usr/local/lib/python3.7/dist-packages/seaborn/_decorators.py:43: FutureWarning: Pass the following variable as a keyword arg: x. From version 0.12, the only valid positional argument will be `data`, and passing other arguments without an explicit keyword will result in an error or misinterpretation.\n",
            "  FutureWarning\n"
          ]
        },
        {
          "output_type": "execute_result",
          "data": {
            "text/plain": [
              "<matplotlib.axes._subplots.AxesSubplot at 0x7f11ec36f6d0>"
            ]
          },
          "metadata": {},
          "execution_count": 356
        },
        {
          "output_type": "display_data",
          "data": {
            "image/png": "[encoded data removed]",
            "text/plain": [
              "<Figure size 432x288 with 1 Axes>"
            ]
          },
          "metadata": {}
        }
      ]
    },
    {
      "cell_type": "code",
      "metadata": {
        "colab": {
          "base_uri": "https://localhost:8080/",
          "height": 356
        },
        "id": "bgloPtH5eVD7",
        "outputId": "43fc9815-ec62-4352-bb12-6d2bc2484e71"
      },
      "source": [
        "sns.boxplot(train2['windspeed'])"
      ],
      "execution_count": 357,
      "outputs": [
        {
          "output_type": "stream",
          "name": "stderr",
          "text": [
            "/usr/local/lib/python3.7/dist-packages/seaborn/_decorators.py:43: FutureWarning: Pass the following variable as a keyword arg: x. From version 0.12, the only valid positional argument will be `data`, and passing other arguments without an explicit keyword will result in an error or misinterpretation.\n",
            "  FutureWarning\n"
          ]
        },
        {
          "output_type": "execute_result",
          "data": {
            "text/plain": [
              "<matplotlib.axes._subplots.AxesSubplot at 0x7f11ec2d3250>"
            ]
          },
          "metadata": {},
          "execution_count": 357
        },
        {
          "output_type": "display_data",
          "data": {
            "image/png": "[encoded data removed]",
            "text/plain": [
              "<Figure size 432x288 with 1 Axes>"
            ]
          },
          "metadata": {}
        }
      ]
    },
    {
      "cell_type": "code",
      "metadata": {
        "colab": {
          "base_uri": "https://localhost:8080/"
        },
        "id": "S2MV4vKbee5u",
        "outputId": "56a32cab-dfc1-40cd-b10a-955f2d19d2d3"
      },
      "source": [
        "Q1 = np.percentile(train2['windspeed'], 25, interpolation = 'midpoint')  \n",
        "Q2 = np.percentile(train2['windspeed'], 50, interpolation = 'midpoint')  \n",
        "Q3 = np.percentile(train2['windspeed'], 75, interpolation = 'midpoint')     \n",
        "IQR = Q3 - Q1 \n",
        "low_lim = Q1 - 1.5 * IQR \n",
        "up_lim = Q3 + 1.5 * IQR\n",
        "print('low limit:', low_lim) \n",
        "print('upper limit:', up_lim)"
      ],
      "execution_count": 358,
      "outputs": [
        {
          "output_type": "stream",
          "name": "stdout",
          "text": [
            "low limit: -10.99805\n",
            "upper limit: 37.00075\n"
          ]
        }
      ]
    },
    {
      "cell_type": "code",
      "metadata": {
        "id": "o1itL2HAeoKq"
      },
      "source": [
        "train2=train2[train2.windspeed<up_lim]\n",
        "train2=train2[train2.windspeed>low_lim]"
      ],
      "execution_count": 359,
      "outputs": []
    },
    {
      "cell_type": "code",
      "metadata": {
        "colab": {
          "base_uri": "https://localhost:8080/",
          "height": 356
        },
        "id": "Q5ugQK0ge5c5",
        "outputId": "43ea4461-d12b-4909-b8cd-411dd6bfd7ab"
      },
      "source": [
        "sns.boxplot(train2['windspeed'])"
      ],
      "execution_count": 360,
      "outputs": [
        {
          "output_type": "stream",
          "name": "stderr",
          "text": [
            "/usr/local/lib/python3.7/dist-packages/seaborn/_decorators.py:43: FutureWarning: Pass the following variable as a keyword arg: x. From version 0.12, the only valid positional argument will be `data`, and passing other arguments without an explicit keyword will result in an error or misinterpretation.\n",
            "  FutureWarning\n"
          ]
        },
        {
          "output_type": "execute_result",
          "data": {
            "text/plain": [
              "<matplotlib.axes._subplots.AxesSubplot at 0x7f11ec2ad710>"
            ]
          },
          "metadata": {},
          "execution_count": 360
        },
        {
          "output_type": "display_data",
          "data": {
            "image/png": "[encoded data removed]",
            "text/plain": [
              "<Figure size 432x288 with 1 Axes>"
            ]
          },
          "metadata": {}
        }
      ]
    },
    {
      "cell_type": "code",
      "metadata": {
        "id": "4EAQle9wNzeo"
      },
      "source": [
        "train2=train2.drop(['season','holiday','workingday','weather'],axis=1)"
      ],
      "execution_count": 361,
      "outputs": []
    },
    {
      "cell_type": "code",
      "metadata": {
        "colab": {
          "base_uri": "https://localhost:8080/",
          "height": 275
        },
        "id": "r6GuB1YndBuQ",
        "outputId": "f40bedd0-7eee-403d-fdb7-1ce08ab3bea0"
      },
      "source": [
        "train2.head()"
      ],
      "execution_count": 362,
      "outputs": [
        {
          "output_type": "execute_result",
          "data": {
            "text/html": [
              "<div>\n",
              "<style scoped>\n",
              "    .dataframe tbody tr th:only-of-type {\n",
              "        vertical-align: middle;\n",
              "    }\n",
              "\n",
              "    .dataframe tbody tr th {\n",
              "        vertical-align: top;\n",
              "    }\n",
              "\n",
              "    .dataframe thead th {\n",
              "        text-align: right;\n",
              "    }\n",
              "</style>\n",
              "<table border=\"1\" class=\"dataframe\">\n",
              "  <thead>\n",
              "    <tr style=\"text-align: right;\">\n",
              "      <th></th>\n",
              "      <th>id</th>\n",
              "      <th>temp</th>\n",
              "      <th>temp_feel</th>\n",
              "      <th>humidity</th>\n",
              "      <th>windspeed</th>\n",
              "      <th>demand</th>\n",
              "      <th>day_of_week</th>\n",
              "      <th>day_of_year</th>\n",
              "      <th>month</th>\n",
              "      <th>hour</th>\n",
              "      <th>spring</th>\n",
              "      <th>summer</th>\n",
              "      <th>winter</th>\n",
              "      <th>Yes</th>\n",
              "      <th>Yes</th>\n",
              "      <th>Light snow or rain</th>\n",
              "      <th>Mist</th>\n",
              "      <th>heavy rain/ice pellets/snow + fog</th>\n",
              "    </tr>\n",
              "  </thead>\n",
              "  <tbody>\n",
              "    <tr>\n",
              "      <th>0</th>\n",
              "      <td>1</td>\n",
              "      <td>9.84</td>\n",
              "      <td>14.395</td>\n",
              "      <td>81.0</td>\n",
              "      <td>0.0</td>\n",
              "      <td>2.772589</td>\n",
              "      <td>6</td>\n",
              "      <td>1</td>\n",
              "      <td>1</td>\n",
              "      <td>0</td>\n",
              "      <td>1</td>\n",
              "      <td>0</td>\n",
              "      <td>0</td>\n",
              "      <td>0</td>\n",
              "      <td>0</td>\n",
              "      <td>0</td>\n",
              "      <td>0</td>\n",
              "      <td>0</td>\n",
              "    </tr>\n",
              "    <tr>\n",
              "      <th>1</th>\n",
              "      <td>2</td>\n",
              "      <td>9.02</td>\n",
              "      <td>13.635</td>\n",
              "      <td>80.0</td>\n",
              "      <td>0.0</td>\n",
              "      <td>3.688879</td>\n",
              "      <td>6</td>\n",
              "      <td>1</td>\n",
              "      <td>1</td>\n",
              "      <td>1</td>\n",
              "      <td>1</td>\n",
              "      <td>0</td>\n",
              "      <td>0</td>\n",
              "      <td>0</td>\n",
              "      <td>0</td>\n",
              "      <td>0</td>\n",
              "      <td>0</td>\n",
              "      <td>0</td>\n",
              "    </tr>\n",
              "    <tr>\n",
              "      <th>2</th>\n",
              "      <td>3</td>\n",
              "      <td>9.02</td>\n",
              "      <td>13.635</td>\n",
              "      <td>80.0</td>\n",
              "      <td>0.0</td>\n",
              "      <td>3.465736</td>\n",
              "      <td>6</td>\n",
              "      <td>1</td>\n",
              "      <td>1</td>\n",
              "      <td>2</td>\n",
              "      <td>1</td>\n",
              "      <td>0</td>\n",
              "      <td>0</td>\n",
              "      <td>0</td>\n",
              "      <td>0</td>\n",
              "      <td>0</td>\n",
              "      <td>0</td>\n",
              "      <td>0</td>\n",
              "    </tr>\n",
              "    <tr>\n",
              "      <th>3</th>\n",
              "      <td>4</td>\n",
              "      <td>9.84</td>\n",
              "      <td>14.395</td>\n",
              "      <td>75.0</td>\n",
              "      <td>0.0</td>\n",
              "      <td>2.564949</td>\n",
              "      <td>6</td>\n",
              "      <td>1</td>\n",
              "      <td>1</td>\n",
              "      <td>3</td>\n",
              "      <td>1</td>\n",
              "      <td>0</td>\n",
              "      <td>0</td>\n",
              "      <td>0</td>\n",
              "      <td>0</td>\n",
              "      <td>0</td>\n",
              "      <td>0</td>\n",
              "      <td>0</td>\n",
              "    </tr>\n",
              "    <tr>\n",
              "      <th>4</th>\n",
              "      <td>5</td>\n",
              "      <td>9.84</td>\n",
              "      <td>14.395</td>\n",
              "      <td>75.0</td>\n",
              "      <td>0.0</td>\n",
              "      <td>0.000000</td>\n",
              "      <td>6</td>\n",
              "      <td>1</td>\n",
              "      <td>1</td>\n",
              "      <td>4</td>\n",
              "      <td>1</td>\n",
              "      <td>0</td>\n",
              "      <td>0</td>\n",
              "      <td>0</td>\n",
              "      <td>0</td>\n",
              "      <td>0</td>\n",
              "      <td>0</td>\n",
              "      <td>0</td>\n",
              "    </tr>\n",
              "  </tbody>\n",
              "</table>\n",
              "</div>"
            ],
            "text/plain": [
              "   id  temp  ...  Mist  heavy rain/ice pellets/snow + fog\n",
              "0   1  9.84  ...     0                                  0\n",
              "1   2  9.02  ...     0                                  0\n",
              "2   3  9.02  ...     0                                  0\n",
              "3   4  9.84  ...     0                                  0\n",
              "4   5  9.84  ...     0                                  0\n",
              "\n",
              "[5 rows x 18 columns]"
            ]
          },
          "metadata": {},
          "execution_count": 362
        }
      ]
    },
    {
      "cell_type": "code",
      "metadata": {
        "colab": {
          "base_uri": "https://localhost:8080/"
        },
        "id": "T5zTPt0cNb94",
        "outputId": "af298b44-91be-4a6a-8c34-9201a2a93bea"
      },
      "source": [
        "from sklearn.preprocessing import StandardScaler\n",
        "# Initialise the Scaler\n",
        "scaler = StandardScaler()\n",
        "  \n",
        "# To scale data\n",
        "scaler.fit(train2)"
      ],
      "execution_count": 363,
      "outputs": [
        {
          "output_type": "execute_result",
          "data": {
            "text/plain": [
              "StandardScaler(copy=True, with_mean=True, with_std=True)"
            ]
          },
          "metadata": {},
          "execution_count": 363
        }
      ]
    },
    {
      "cell_type": "code",
      "metadata": {
        "id": "jxvelo2yOU-H"
      },
      "source": [
        "from sklearn.model_selection import train_test_split\n",
        "train, val = train_test_split(train2, test_size=0.25)"
      ],
      "execution_count": 364,
      "outputs": []
    },
    {
      "cell_type": "code",
      "metadata": {
        "id": "b7Bjg07jOVAc"
      },
      "source": [
        "trainx=train2.drop(['demand'],axis=1)\n",
        "trainy=train2['demand']\n",
        "\n",
        "val_x=val.drop(['demand'],axis=1)\n",
        "val_y=val['demand']"
      ],
      "execution_count": 365,
      "outputs": []
    },
    {
      "cell_type": "code",
      "metadata": {
        "colab": {
          "base_uri": "https://localhost:8080/"
        },
        "id": "vKgvyqlTOVCe",
        "outputId": "2f77e21d-022d-4edb-c062-0ccd845dd776"
      },
      "source": [
        "print(trainy.shape)\n",
        "print(trainx.shape)\n",
        "print(val_y.shape)\n",
        "print(val_x.shape)"
      ],
      "execution_count": 366,
      "outputs": [
        {
          "output_type": "stream",
          "name": "stdout",
          "text": [
            "(8648,)\n",
            "(8648, 17)\n",
            "(2162,)\n",
            "(2162, 17)\n"
          ]
        }
      ]
    },
    {
      "cell_type": "code",
      "metadata": {
        "colab": {
          "base_uri": "https://localhost:8080/"
        },
        "id": "eeXkp-ckOtcx",
        "outputId": "f306bfd5-86d9-4bbf-defe-43fffa231f72"
      },
      "source": [
        "from sklearn.linear_model import LinearRegression\n",
        "lr=LinearRegression()\n",
        "lr.fit(trainx,trainy)"
      ],
      "execution_count": 367,
      "outputs": [
        {
          "output_type": "execute_result",
          "data": {
            "text/plain": [
              "LinearRegression(copy_X=True, fit_intercept=True, n_jobs=None, normalize=False)"
            ]
          },
          "metadata": {},
          "execution_count": 367
        }
      ]
    },
    {
      "cell_type": "code",
      "metadata": {
        "id": "5Zez-S8vOtfK"
      },
      "source": [
        "from sklearn.metrics import mean_squared_error,mean_absolute_error,r2_score\n",
        "df_pred=lr.predict(val_x)"
      ],
      "execution_count": 368,
      "outputs": []
    },
    {
      "cell_type": "code",
      "metadata": {
        "colab": {
          "base_uri": "https://localhost:8080/"
        },
        "id": "LXumFqVSOVEf",
        "outputId": "2e804214-4259-4eed-f5e5-06a987cca753"
      },
      "source": [
        "print(\"The model's metrics values are: \")\n",
        "print(\"Accuracy: \", lr.score(val_x,val_y))\n",
        "print(\"Mean Absolute Error: \",mean_absolute_error(df_pred , val_y))\n",
        "print(\"Mean Squared Error: \" ,mean_squared_error(df_pred,val_y))\n",
        "print(\"R-squared score: \", r2_score(val_y,df_pred))"
      ],
      "execution_count": 369,
      "outputs": [
        {
          "output_type": "stream",
          "name": "stdout",
          "text": [
            "The model's metrics values are: \n",
            "Accuracy:  0.4862161097203739\n",
            "Mean Absolute Error:  0.8327677049684336\n",
            "Mean Squared Error:  1.153312180777851\n",
            "R-squared score:  0.4862161097203739\n"
          ]
        }
      ]
    },
    {
      "cell_type": "code",
      "metadata": {
        "colab": {
          "base_uri": "https://localhost:8080/"
        },
        "id": "VJi5T1YUZIBu",
        "outputId": "a86c8b38-93c7-4099-a5f6-edb88b7bc340"
      },
      "source": [
        "import xgboost\n",
        "from xgboost import XGBRegressor\n",
        "from sklearn.preprocessing import StandardScaler,MinMaxScaler\n",
        "from sklearn.pipeline import make_pipeline\n",
        "scaler = MinMaxScaler()\n",
        "model = XGBRegressor(objective ='reg:squarederror',\n",
        "                     n_estimators=100, max_depth=3, eta=0.1, subsample=0.7, colsample_bytree=0.8, random_state = 42)\n",
        "imputer = KNNImputer()\n",
        "pipe = make_pipeline(imputer,scaler, model)\n",
        "pipe.fit(trainx, trainy)\n",
        "pipe.predict(val_x)\n",
        "pipe.score(val_x,val_y)"
      ],
      "execution_count": 370,
      "outputs": [
        {
          "output_type": "execute_result",
          "data": {
            "text/plain": [
              "0.9227264555776001"
            ]
          },
          "metadata": {},
          "execution_count": 370
        }
      ]
    },
    {
      "cell_type": "code",
      "metadata": {
        "colab": {
          "base_uri": "https://localhost:8080/"
        },
        "id": "WxKK0lIYbUDb",
        "outputId": "f04cf8ae-42b2-49bc-e8e0-2858e815afa0"
      },
      "source": [
        "df_pred = pipe.predict(val_x)\n",
        "print(\"The model's metrics values are: \")\n",
        "print(\"Accuracy: \", pipe.score(val_x,val_y))\n",
        "print(\"Mean Absolute Error: \",mean_absolute_error(val_y , df_pred))\n",
        "print(\"Mean Squared Error: \" ,mean_squared_error(val_y,df_pred))\n",
        "print(\"R-squared score: \", r2_score(val_y,df_pred))"
      ],
      "execution_count": 371,
      "outputs": [
        {
          "output_type": "stream",
          "name": "stdout",
          "text": [
            "The model's metrics values are: \n",
            "Accuracy:  0.9227264555776001\n",
            "Mean Absolute Error:  0.3140904383912777\n",
            "Mean Squared Error:  0.17345915611664753\n",
            "R-squared score:  0.9227264555776001\n"
          ]
        }
      ]
    },
    {
      "cell_type": "code",
      "metadata": {
        "id": "m3AAJ3IgbUFt"
      },
      "source": [
        ""
      ],
      "execution_count": 371,
      "outputs": []
    },
    {
      "cell_type": "code",
      "metadata": {
        "id": "Z6wdIPzTbUIE"
      },
      "source": [
        ""
      ],
      "execution_count": 371,
      "outputs": []
    }
  ]
}